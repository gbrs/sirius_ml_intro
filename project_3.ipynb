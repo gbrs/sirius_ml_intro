{
 "cells": [
  {
   "cell_type": "code",
   "execution_count": 1,
   "id": "20d5425c",
   "metadata": {},
   "outputs": [],
   "source": [
    "import pandas as pd\n",
    "import numpy as np\n",
    "import seaborn as sns"
   ]
  },
  {
   "cell_type": "code",
   "execution_count": 2,
   "id": "8315f3a0",
   "metadata": {},
   "outputs": [],
   "source": [
    "# Базовая библиотека для рисования графиков и изображенйи в Python\n",
    "import matplotlib.pyplot as plt"
   ]
  },
  {
   "cell_type": "code",
   "execution_count": 3,
   "id": "286e878a",
   "metadata": {},
   "outputs": [],
   "source": [
    "from sklearn.model_selection import train_test_split"
   ]
  },
  {
   "cell_type": "code",
   "execution_count": 4,
   "id": "38f2f578",
   "metadata": {},
   "outputs": [],
   "source": [
    "sns.set(rc={'figure.figsize': (11.7, 8.27)})"
   ]
  },
  {
   "cell_type": "code",
   "execution_count": 5,
   "id": "3f3907bc",
   "metadata": {},
   "outputs": [],
   "source": [
    "import warnings\n",
    "warnings.filterwarnings('ignore')"
   ]
  },
  {
   "cell_type": "markdown",
   "id": "b160091f",
   "metadata": {},
   "source": [
    "# Чтение данных"
   ]
  },
  {
   "cell_type": "code",
   "execution_count": 6,
   "id": "29f7ea15",
   "metadata": {},
   "outputs": [],
   "source": [
    "##\n",
    "data = pd.read_csv('../images.csv')"
   ]
  },
  {
   "cell_type": "code",
   "execution_count": 7,
   "id": "c3b87166",
   "metadata": {},
   "outputs": [
    {
     "data": {
      "text/html": [
       "<div>\n",
       "<style scoped>\n",
       "    .dataframe tbody tr th:only-of-type {\n",
       "        vertical-align: middle;\n",
       "    }\n",
       "\n",
       "    .dataframe tbody tr th {\n",
       "        vertical-align: top;\n",
       "    }\n",
       "\n",
       "    .dataframe thead th {\n",
       "        text-align: right;\n",
       "    }\n",
       "</style>\n",
       "<table border=\"1\" class=\"dataframe\">\n",
       "  <thead>\n",
       "    <tr style=\"text-align: right;\">\n",
       "      <th></th>\n",
       "      <th>label</th>\n",
       "      <th>pixel0</th>\n",
       "      <th>pixel1</th>\n",
       "      <th>pixel2</th>\n",
       "      <th>pixel3</th>\n",
       "      <th>pixel4</th>\n",
       "      <th>pixel5</th>\n",
       "      <th>pixel6</th>\n",
       "      <th>pixel7</th>\n",
       "      <th>pixel8</th>\n",
       "      <th>...</th>\n",
       "      <th>pixel774</th>\n",
       "      <th>pixel775</th>\n",
       "      <th>pixel776</th>\n",
       "      <th>pixel777</th>\n",
       "      <th>pixel778</th>\n",
       "      <th>pixel779</th>\n",
       "      <th>pixel780</th>\n",
       "      <th>pixel781</th>\n",
       "      <th>pixel782</th>\n",
       "      <th>pixel783</th>\n",
       "    </tr>\n",
       "  </thead>\n",
       "  <tbody>\n",
       "    <tr>\n",
       "      <th>0</th>\n",
       "      <td>1</td>\n",
       "      <td>0</td>\n",
       "      <td>0</td>\n",
       "      <td>0</td>\n",
       "      <td>0</td>\n",
       "      <td>0</td>\n",
       "      <td>0</td>\n",
       "      <td>0</td>\n",
       "      <td>0</td>\n",
       "      <td>0</td>\n",
       "      <td>...</td>\n",
       "      <td>0</td>\n",
       "      <td>0</td>\n",
       "      <td>0</td>\n",
       "      <td>0</td>\n",
       "      <td>0</td>\n",
       "      <td>0</td>\n",
       "      <td>0</td>\n",
       "      <td>0</td>\n",
       "      <td>0</td>\n",
       "      <td>0</td>\n",
       "    </tr>\n",
       "    <tr>\n",
       "      <th>1</th>\n",
       "      <td>0</td>\n",
       "      <td>0</td>\n",
       "      <td>0</td>\n",
       "      <td>0</td>\n",
       "      <td>0</td>\n",
       "      <td>0</td>\n",
       "      <td>0</td>\n",
       "      <td>0</td>\n",
       "      <td>0</td>\n",
       "      <td>0</td>\n",
       "      <td>...</td>\n",
       "      <td>0</td>\n",
       "      <td>0</td>\n",
       "      <td>0</td>\n",
       "      <td>0</td>\n",
       "      <td>0</td>\n",
       "      <td>0</td>\n",
       "      <td>0</td>\n",
       "      <td>0</td>\n",
       "      <td>0</td>\n",
       "      <td>0</td>\n",
       "    </tr>\n",
       "    <tr>\n",
       "      <th>2</th>\n",
       "      <td>1</td>\n",
       "      <td>0</td>\n",
       "      <td>0</td>\n",
       "      <td>0</td>\n",
       "      <td>0</td>\n",
       "      <td>0</td>\n",
       "      <td>0</td>\n",
       "      <td>0</td>\n",
       "      <td>0</td>\n",
       "      <td>0</td>\n",
       "      <td>...</td>\n",
       "      <td>0</td>\n",
       "      <td>0</td>\n",
       "      <td>0</td>\n",
       "      <td>0</td>\n",
       "      <td>0</td>\n",
       "      <td>0</td>\n",
       "      <td>0</td>\n",
       "      <td>0</td>\n",
       "      <td>0</td>\n",
       "      <td>0</td>\n",
       "    </tr>\n",
       "    <tr>\n",
       "      <th>3</th>\n",
       "      <td>4</td>\n",
       "      <td>0</td>\n",
       "      <td>0</td>\n",
       "      <td>0</td>\n",
       "      <td>0</td>\n",
       "      <td>0</td>\n",
       "      <td>0</td>\n",
       "      <td>0</td>\n",
       "      <td>0</td>\n",
       "      <td>0</td>\n",
       "      <td>...</td>\n",
       "      <td>0</td>\n",
       "      <td>0</td>\n",
       "      <td>0</td>\n",
       "      <td>0</td>\n",
       "      <td>0</td>\n",
       "      <td>0</td>\n",
       "      <td>0</td>\n",
       "      <td>0</td>\n",
       "      <td>0</td>\n",
       "      <td>0</td>\n",
       "    </tr>\n",
       "    <tr>\n",
       "      <th>4</th>\n",
       "      <td>0</td>\n",
       "      <td>0</td>\n",
       "      <td>0</td>\n",
       "      <td>0</td>\n",
       "      <td>0</td>\n",
       "      <td>0</td>\n",
       "      <td>0</td>\n",
       "      <td>0</td>\n",
       "      <td>0</td>\n",
       "      <td>0</td>\n",
       "      <td>...</td>\n",
       "      <td>0</td>\n",
       "      <td>0</td>\n",
       "      <td>0</td>\n",
       "      <td>0</td>\n",
       "      <td>0</td>\n",
       "      <td>0</td>\n",
       "      <td>0</td>\n",
       "      <td>0</td>\n",
       "      <td>0</td>\n",
       "      <td>0</td>\n",
       "    </tr>\n",
       "  </tbody>\n",
       "</table>\n",
       "<p>5 rows × 785 columns</p>\n",
       "</div>"
      ],
      "text/plain": [
       "   label  pixel0  pixel1  pixel2  pixel3  pixel4  pixel5  pixel6  pixel7  \\\n",
       "0      1       0       0       0       0       0       0       0       0   \n",
       "1      0       0       0       0       0       0       0       0       0   \n",
       "2      1       0       0       0       0       0       0       0       0   \n",
       "3      4       0       0       0       0       0       0       0       0   \n",
       "4      0       0       0       0       0       0       0       0       0   \n",
       "\n",
       "   pixel8  ...  pixel774  pixel775  pixel776  pixel777  pixel778  pixel779  \\\n",
       "0       0  ...         0         0         0         0         0         0   \n",
       "1       0  ...         0         0         0         0         0         0   \n",
       "2       0  ...         0         0         0         0         0         0   \n",
       "3       0  ...         0         0         0         0         0         0   \n",
       "4       0  ...         0         0         0         0         0         0   \n",
       "\n",
       "   pixel780  pixel781  pixel782  pixel783  \n",
       "0         0         0         0         0  \n",
       "1         0         0         0         0  \n",
       "2         0         0         0         0  \n",
       "3         0         0         0         0  \n",
       "4         0         0         0         0  \n",
       "\n",
       "[5 rows x 785 columns]"
      ]
     },
     "execution_count": 7,
     "metadata": {},
     "output_type": "execute_result"
    }
   ],
   "source": [
    "##\n",
    "data.head()"
   ]
  },
  {
   "cell_type": "code",
   "execution_count": 10,
   "id": "b2b306f5",
   "metadata": {},
   "outputs": [
    {
     "data": {
      "text/html": [
       "<div>\n",
       "<style scoped>\n",
       "    .dataframe tbody tr th:only-of-type {\n",
       "        vertical-align: middle;\n",
       "    }\n",
       "\n",
       "    .dataframe tbody tr th {\n",
       "        vertical-align: top;\n",
       "    }\n",
       "\n",
       "    .dataframe thead th {\n",
       "        text-align: right;\n",
       "    }\n",
       "</style>\n",
       "<table border=\"1\" class=\"dataframe\">\n",
       "  <thead>\n",
       "    <tr style=\"text-align: right;\">\n",
       "      <th></th>\n",
       "      <th>label</th>\n",
       "      <th>count</th>\n",
       "    </tr>\n",
       "  </thead>\n",
       "  <tbody>\n",
       "    <tr>\n",
       "      <th>0</th>\n",
       "      <td>0</td>\n",
       "      <td>4132</td>\n",
       "    </tr>\n",
       "    <tr>\n",
       "      <th>1</th>\n",
       "      <td>1</td>\n",
       "      <td>4684</td>\n",
       "    </tr>\n",
       "    <tr>\n",
       "      <th>2</th>\n",
       "      <td>2</td>\n",
       "      <td>4177</td>\n",
       "    </tr>\n",
       "    <tr>\n",
       "      <th>3</th>\n",
       "      <td>3</td>\n",
       "      <td>4351</td>\n",
       "    </tr>\n",
       "    <tr>\n",
       "      <th>4</th>\n",
       "      <td>4</td>\n",
       "      <td>4072</td>\n",
       "    </tr>\n",
       "    <tr>\n",
       "      <th>5</th>\n",
       "      <td>5</td>\n",
       "      <td>3795</td>\n",
       "    </tr>\n",
       "    <tr>\n",
       "      <th>6</th>\n",
       "      <td>6</td>\n",
       "      <td>4137</td>\n",
       "    </tr>\n",
       "    <tr>\n",
       "      <th>7</th>\n",
       "      <td>7</td>\n",
       "      <td>4401</td>\n",
       "    </tr>\n",
       "    <tr>\n",
       "      <th>8</th>\n",
       "      <td>8</td>\n",
       "      <td>4063</td>\n",
       "    </tr>\n",
       "    <tr>\n",
       "      <th>9</th>\n",
       "      <td>9</td>\n",
       "      <td>4188</td>\n",
       "    </tr>\n",
       "  </tbody>\n",
       "</table>\n",
       "</div>"
      ],
      "text/plain": [
       "   label  count\n",
       "0      0   4132\n",
       "1      1   4684\n",
       "2      2   4177\n",
       "3      3   4351\n",
       "4      4   4072\n",
       "5      5   3795\n",
       "6      6   4137\n",
       "7      7   4401\n",
       "8      8   4063\n",
       "9      9   4188"
      ]
     },
     "execution_count": 10,
     "metadata": {},
     "output_type": "execute_result"
    }
   ],
   "source": [
    "## сколько образцов каждой цифры у нас\n",
    "data.groupby('label', as_index=False) \\\n",
    "    .agg({'pixel0': 'count'}) \\\n",
    "    .rename(columns={'pixel0': 'count'})"
   ]
  },
  {
   "cell_type": "code",
   "execution_count": 11,
   "id": "b848cee5",
   "metadata": {},
   "outputs": [],
   "source": [
    "X = data.drop(columns='label')\n",
    "y = data['label']"
   ]
  },
  {
   "cell_type": "code",
   "execution_count": 12,
   "id": "6f62c940",
   "metadata": {},
   "outputs": [],
   "source": [
    "X_train, X_test, y_train, y_test = train_test_split(X, y, test_size=0.2, random_state=0)"
   ]
  },
  {
   "cell_type": "markdown",
   "id": "ff2cbf08",
   "metadata": {},
   "source": [
    "## Исследовательский анализ данных"
   ]
  },
  {
   "cell_type": "code",
   "execution_count": 13,
   "id": "42637559",
   "metadata": {},
   "outputs": [],
   "source": [
    "X_y_train = X_train.copy(deep=True)"
   ]
  },
  {
   "cell_type": "code",
   "execution_count": 14,
   "id": "23fc2c37",
   "metadata": {},
   "outputs": [],
   "source": [
    "X_y_train['y'] = y_train"
   ]
  },
  {
   "cell_type": "code",
   "execution_count": 15,
   "id": "eede3eea",
   "metadata": {},
   "outputs": [],
   "source": [
    "# функция для вывода картинок\n",
    "def print_image(image_flat, ax=None):\n",
    "    image = image_flat.reshape(28, 28).astype('uint8')\n",
    "    \n",
    "    if ax is None:  ## для вывода картинки с осями обозначенными?\n",
    "        plt.imshow(image)\n",
    "    else:  ## для вывода картинки без осей\n",
    "        ax.axis('off')\n",
    "        ax.imshow(image)"
   ]
  },
  {
   "cell_type": "code",
   "execution_count": 71,
   "id": "8677da68",
   "metadata": {},
   "outputs": [
    {
     "data": {
      "text/html": [
       "<div>\n",
       "<style scoped>\n",
       "    .dataframe tbody tr th:only-of-type {\n",
       "        vertical-align: middle;\n",
       "    }\n",
       "\n",
       "    .dataframe tbody tr th {\n",
       "        vertical-align: top;\n",
       "    }\n",
       "\n",
       "    .dataframe thead th {\n",
       "        text-align: right;\n",
       "    }\n",
       "</style>\n",
       "<table border=\"1\" class=\"dataframe\">\n",
       "  <thead>\n",
       "    <tr style=\"text-align: right;\">\n",
       "      <th></th>\n",
       "      <th>pixel0</th>\n",
       "      <th>pixel1</th>\n",
       "      <th>pixel2</th>\n",
       "      <th>pixel3</th>\n",
       "      <th>pixel4</th>\n",
       "      <th>pixel5</th>\n",
       "      <th>pixel6</th>\n",
       "      <th>pixel7</th>\n",
       "      <th>pixel8</th>\n",
       "      <th>pixel9</th>\n",
       "      <th>...</th>\n",
       "      <th>pixel775</th>\n",
       "      <th>pixel776</th>\n",
       "      <th>pixel777</th>\n",
       "      <th>pixel778</th>\n",
       "      <th>pixel779</th>\n",
       "      <th>pixel780</th>\n",
       "      <th>pixel781</th>\n",
       "      <th>pixel782</th>\n",
       "      <th>pixel783</th>\n",
       "      <th>y</th>\n",
       "    </tr>\n",
       "  </thead>\n",
       "  <tbody>\n",
       "    <tr>\n",
       "      <th>39317</th>\n",
       "      <td>0</td>\n",
       "      <td>0</td>\n",
       "      <td>0</td>\n",
       "      <td>0</td>\n",
       "      <td>0</td>\n",
       "      <td>0</td>\n",
       "      <td>0</td>\n",
       "      <td>0</td>\n",
       "      <td>0</td>\n",
       "      <td>0</td>\n",
       "      <td>...</td>\n",
       "      <td>0</td>\n",
       "      <td>0</td>\n",
       "      <td>0</td>\n",
       "      <td>0</td>\n",
       "      <td>0</td>\n",
       "      <td>0</td>\n",
       "      <td>0</td>\n",
       "      <td>0</td>\n",
       "      <td>0</td>\n",
       "      <td>6</td>\n",
       "    </tr>\n",
       "    <tr>\n",
       "      <th>32837</th>\n",
       "      <td>0</td>\n",
       "      <td>0</td>\n",
       "      <td>0</td>\n",
       "      <td>0</td>\n",
       "      <td>0</td>\n",
       "      <td>0</td>\n",
       "      <td>0</td>\n",
       "      <td>0</td>\n",
       "      <td>0</td>\n",
       "      <td>0</td>\n",
       "      <td>...</td>\n",
       "      <td>0</td>\n",
       "      <td>0</td>\n",
       "      <td>0</td>\n",
       "      <td>0</td>\n",
       "      <td>0</td>\n",
       "      <td>0</td>\n",
       "      <td>0</td>\n",
       "      <td>0</td>\n",
       "      <td>0</td>\n",
       "      <td>6</td>\n",
       "    </tr>\n",
       "    <tr>\n",
       "      <th>16644</th>\n",
       "      <td>0</td>\n",
       "      <td>0</td>\n",
       "      <td>0</td>\n",
       "      <td>0</td>\n",
       "      <td>0</td>\n",
       "      <td>0</td>\n",
       "      <td>0</td>\n",
       "      <td>0</td>\n",
       "      <td>0</td>\n",
       "      <td>0</td>\n",
       "      <td>...</td>\n",
       "      <td>0</td>\n",
       "      <td>0</td>\n",
       "      <td>0</td>\n",
       "      <td>0</td>\n",
       "      <td>0</td>\n",
       "      <td>0</td>\n",
       "      <td>0</td>\n",
       "      <td>0</td>\n",
       "      <td>0</td>\n",
       "      <td>4</td>\n",
       "    </tr>\n",
       "    <tr>\n",
       "      <th>20005</th>\n",
       "      <td>0</td>\n",
       "      <td>0</td>\n",
       "      <td>0</td>\n",
       "      <td>0</td>\n",
       "      <td>0</td>\n",
       "      <td>0</td>\n",
       "      <td>0</td>\n",
       "      <td>0</td>\n",
       "      <td>0</td>\n",
       "      <td>0</td>\n",
       "      <td>...</td>\n",
       "      <td>0</td>\n",
       "      <td>0</td>\n",
       "      <td>0</td>\n",
       "      <td>0</td>\n",
       "      <td>0</td>\n",
       "      <td>0</td>\n",
       "      <td>0</td>\n",
       "      <td>0</td>\n",
       "      <td>0</td>\n",
       "      <td>4</td>\n",
       "    </tr>\n",
       "    <tr>\n",
       "      <th>1533</th>\n",
       "      <td>0</td>\n",
       "      <td>0</td>\n",
       "      <td>0</td>\n",
       "      <td>0</td>\n",
       "      <td>0</td>\n",
       "      <td>0</td>\n",
       "      <td>0</td>\n",
       "      <td>0</td>\n",
       "      <td>0</td>\n",
       "      <td>0</td>\n",
       "      <td>...</td>\n",
       "      <td>0</td>\n",
       "      <td>0</td>\n",
       "      <td>0</td>\n",
       "      <td>0</td>\n",
       "      <td>0</td>\n",
       "      <td>0</td>\n",
       "      <td>0</td>\n",
       "      <td>0</td>\n",
       "      <td>0</td>\n",
       "      <td>2</td>\n",
       "    </tr>\n",
       "    <tr>\n",
       "      <th>...</th>\n",
       "      <td>...</td>\n",
       "      <td>...</td>\n",
       "      <td>...</td>\n",
       "      <td>...</td>\n",
       "      <td>...</td>\n",
       "      <td>...</td>\n",
       "      <td>...</td>\n",
       "      <td>...</td>\n",
       "      <td>...</td>\n",
       "      <td>...</td>\n",
       "      <td>...</td>\n",
       "      <td>...</td>\n",
       "      <td>...</td>\n",
       "      <td>...</td>\n",
       "      <td>...</td>\n",
       "      <td>...</td>\n",
       "      <td>...</td>\n",
       "      <td>...</td>\n",
       "      <td>...</td>\n",
       "      <td>...</td>\n",
       "      <td>...</td>\n",
       "    </tr>\n",
       "    <tr>\n",
       "      <th>41993</th>\n",
       "      <td>0</td>\n",
       "      <td>0</td>\n",
       "      <td>0</td>\n",
       "      <td>0</td>\n",
       "      <td>0</td>\n",
       "      <td>0</td>\n",
       "      <td>0</td>\n",
       "      <td>0</td>\n",
       "      <td>0</td>\n",
       "      <td>0</td>\n",
       "      <td>...</td>\n",
       "      <td>0</td>\n",
       "      <td>0</td>\n",
       "      <td>0</td>\n",
       "      <td>0</td>\n",
       "      <td>0</td>\n",
       "      <td>0</td>\n",
       "      <td>0</td>\n",
       "      <td>0</td>\n",
       "      <td>0</td>\n",
       "      <td>6</td>\n",
       "    </tr>\n",
       "    <tr>\n",
       "      <th>32103</th>\n",
       "      <td>0</td>\n",
       "      <td>0</td>\n",
       "      <td>0</td>\n",
       "      <td>0</td>\n",
       "      <td>0</td>\n",
       "      <td>0</td>\n",
       "      <td>0</td>\n",
       "      <td>0</td>\n",
       "      <td>0</td>\n",
       "      <td>0</td>\n",
       "      <td>...</td>\n",
       "      <td>0</td>\n",
       "      <td>0</td>\n",
       "      <td>0</td>\n",
       "      <td>0</td>\n",
       "      <td>0</td>\n",
       "      <td>0</td>\n",
       "      <td>0</td>\n",
       "      <td>0</td>\n",
       "      <td>0</td>\n",
       "      <td>1</td>\n",
       "    </tr>\n",
       "    <tr>\n",
       "      <th>30403</th>\n",
       "      <td>0</td>\n",
       "      <td>0</td>\n",
       "      <td>0</td>\n",
       "      <td>0</td>\n",
       "      <td>0</td>\n",
       "      <td>0</td>\n",
       "      <td>0</td>\n",
       "      <td>0</td>\n",
       "      <td>0</td>\n",
       "      <td>0</td>\n",
       "      <td>...</td>\n",
       "      <td>0</td>\n",
       "      <td>0</td>\n",
       "      <td>0</td>\n",
       "      <td>0</td>\n",
       "      <td>0</td>\n",
       "      <td>0</td>\n",
       "      <td>0</td>\n",
       "      <td>0</td>\n",
       "      <td>0</td>\n",
       "      <td>9</td>\n",
       "    </tr>\n",
       "    <tr>\n",
       "      <th>21243</th>\n",
       "      <td>0</td>\n",
       "      <td>0</td>\n",
       "      <td>0</td>\n",
       "      <td>0</td>\n",
       "      <td>0</td>\n",
       "      <td>0</td>\n",
       "      <td>0</td>\n",
       "      <td>0</td>\n",
       "      <td>0</td>\n",
       "      <td>0</td>\n",
       "      <td>...</td>\n",
       "      <td>0</td>\n",
       "      <td>0</td>\n",
       "      <td>0</td>\n",
       "      <td>0</td>\n",
       "      <td>0</td>\n",
       "      <td>0</td>\n",
       "      <td>0</td>\n",
       "      <td>0</td>\n",
       "      <td>0</td>\n",
       "      <td>0</td>\n",
       "    </tr>\n",
       "    <tr>\n",
       "      <th>2732</th>\n",
       "      <td>0</td>\n",
       "      <td>0</td>\n",
       "      <td>0</td>\n",
       "      <td>0</td>\n",
       "      <td>0</td>\n",
       "      <td>0</td>\n",
       "      <td>0</td>\n",
       "      <td>0</td>\n",
       "      <td>0</td>\n",
       "      <td>0</td>\n",
       "      <td>...</td>\n",
       "      <td>0</td>\n",
       "      <td>0</td>\n",
       "      <td>0</td>\n",
       "      <td>0</td>\n",
       "      <td>0</td>\n",
       "      <td>0</td>\n",
       "      <td>0</td>\n",
       "      <td>0</td>\n",
       "      <td>0</td>\n",
       "      <td>9</td>\n",
       "    </tr>\n",
       "  </tbody>\n",
       "</table>\n",
       "<p>33600 rows × 785 columns</p>\n",
       "</div>"
      ],
      "text/plain": [
       "       pixel0  pixel1  pixel2  pixel3  pixel4  pixel5  pixel6  pixel7  pixel8  \\\n",
       "39317       0       0       0       0       0       0       0       0       0   \n",
       "32837       0       0       0       0       0       0       0       0       0   \n",
       "16644       0       0       0       0       0       0       0       0       0   \n",
       "20005       0       0       0       0       0       0       0       0       0   \n",
       "1533        0       0       0       0       0       0       0       0       0   \n",
       "...       ...     ...     ...     ...     ...     ...     ...     ...     ...   \n",
       "41993       0       0       0       0       0       0       0       0       0   \n",
       "32103       0       0       0       0       0       0       0       0       0   \n",
       "30403       0       0       0       0       0       0       0       0       0   \n",
       "21243       0       0       0       0       0       0       0       0       0   \n",
       "2732        0       0       0       0       0       0       0       0       0   \n",
       "\n",
       "       pixel9  ...  pixel775  pixel776  pixel777  pixel778  pixel779  \\\n",
       "39317       0  ...         0         0         0         0         0   \n",
       "32837       0  ...         0         0         0         0         0   \n",
       "16644       0  ...         0         0         0         0         0   \n",
       "20005       0  ...         0         0         0         0         0   \n",
       "1533        0  ...         0         0         0         0         0   \n",
       "...       ...  ...       ...       ...       ...       ...       ...   \n",
       "41993       0  ...         0         0         0         0         0   \n",
       "32103       0  ...         0         0         0         0         0   \n",
       "30403       0  ...         0         0         0         0         0   \n",
       "21243       0  ...         0         0         0         0         0   \n",
       "2732        0  ...         0         0         0         0         0   \n",
       "\n",
       "       pixel780  pixel781  pixel782  pixel783  y  \n",
       "39317         0         0         0         0  6  \n",
       "32837         0         0         0         0  6  \n",
       "16644         0         0         0         0  4  \n",
       "20005         0         0         0         0  4  \n",
       "1533          0         0         0         0  2  \n",
       "...         ...       ...       ...       ... ..  \n",
       "41993         0         0         0         0  6  \n",
       "32103         0         0         0         0  1  \n",
       "30403         0         0         0         0  9  \n",
       "21243         0         0         0         0  0  \n",
       "2732          0         0         0         0  9  \n",
       "\n",
       "[33600 rows x 785 columns]"
      ]
     },
     "execution_count": 71,
     "metadata": {},
     "output_type": "execute_result"
    }
   ],
   "source": [
    "X_y_train"
   ]
  },
  {
   "cell_type": "code",
   "execution_count": 72,
   "id": "c14dab30",
   "metadata": {},
   "outputs": [
    {
     "data": {
      "text/plain": [
       "array([[0, 0, 0, ..., 0, 0, 6],\n",
       "       [0, 0, 0, ..., 0, 0, 6],\n",
       "       [0, 0, 0, ..., 0, 0, 4],\n",
       "       ...,\n",
       "       [0, 0, 0, ..., 0, 0, 9],\n",
       "       [0, 0, 0, ..., 0, 0, 0],\n",
       "       [0, 0, 0, ..., 0, 0, 9]])"
      ]
     },
     "execution_count": 72,
     "metadata": {},
     "output_type": "execute_result"
    }
   ],
   "source": [
    "X_y_train.values"
   ]
  },
  {
   "cell_type": "code",
   "execution_count": 16,
   "id": "9a436a84",
   "metadata": {},
   "outputs": [
    {
     "data": {
      "image/png": "[encoded data removed]",
      "text/plain": [
       "<Figure size 842.4x595.44 with 1 Axes>"
      ]
     },
     "metadata": {},
     "output_type": "display_data"
    }
   ],
   "source": [
    "print_image(X_y_train.values[2, :-1], ax=plt)"
   ]
  },
  {
   "cell_type": "code",
   "execution_count": 18,
   "id": "01f10121",
   "metadata": {
    "scrolled": true
   },
   "outputs": [
    {
     "data": {
      "image/png": "[encoded data removed]",
      "text/plain": [
       "<Figure size 864x720 with 100 Axes>"
      ]
     },
     "metadata": {},
     "output_type": "display_data"
    }
   ],
   "source": [
    "fig, axs = plt.subplots(10, 10, figsize=(12,10),\n",
    "                       sharex=True, sharey=True)\n",
    "\n",
    "group_n = 0\n",
    "for _, group in X_y_train.groupby('y', as_index=False):\n",
    "    random_numbers = group.sample(10).drop(columns='y')\n",
    "    image_vects = [x.values for _, x in random_numbers.iterrows()]\n",
    "    \n",
    "    image_n = 0\n",
    "    for image in image_vects:\n",
    "        print_image(image, ax=axs[group_n][image_n])\n",
    "        image_n += 1\n",
    "        \n",
    "    group_n += 1"
   ]
  },
  {
   "cell_type": "markdown",
   "id": "de75c1ef",
   "metadata": {},
   "source": [
    "# Подготовка факторов"
   ]
  },
  {
   "cell_type": "code",
   "execution_count": 19,
   "id": "f01d8172",
   "metadata": {},
   "outputs": [
    {
     "data": {
      "text/html": [
       "<div>\n",
       "<style scoped>\n",
       "    .dataframe tbody tr th:only-of-type {\n",
       "        vertical-align: middle;\n",
       "    }\n",
       "\n",
       "    .dataframe tbody tr th {\n",
       "        vertical-align: top;\n",
       "    }\n",
       "\n",
       "    .dataframe thead th {\n",
       "        text-align: right;\n",
       "    }\n",
       "</style>\n",
       "<table border=\"1\" class=\"dataframe\">\n",
       "  <thead>\n",
       "    <tr style=\"text-align: right;\">\n",
       "      <th></th>\n",
       "      <th>pixel0</th>\n",
       "      <th>pixel1</th>\n",
       "      <th>pixel2</th>\n",
       "      <th>pixel3</th>\n",
       "      <th>pixel4</th>\n",
       "      <th>pixel5</th>\n",
       "      <th>pixel6</th>\n",
       "      <th>pixel7</th>\n",
       "      <th>pixel8</th>\n",
       "      <th>pixel9</th>\n",
       "      <th>...</th>\n",
       "      <th>pixel774</th>\n",
       "      <th>pixel775</th>\n",
       "      <th>pixel776</th>\n",
       "      <th>pixel777</th>\n",
       "      <th>pixel778</th>\n",
       "      <th>pixel779</th>\n",
       "      <th>pixel780</th>\n",
       "      <th>pixel781</th>\n",
       "      <th>pixel782</th>\n",
       "      <th>pixel783</th>\n",
       "    </tr>\n",
       "  </thead>\n",
       "  <tbody>\n",
       "    <tr>\n",
       "      <th>count</th>\n",
       "      <td>33600.0</td>\n",
       "      <td>33600.0</td>\n",
       "      <td>33600.0</td>\n",
       "      <td>33600.0</td>\n",
       "      <td>33600.0</td>\n",
       "      <td>33600.0</td>\n",
       "      <td>33600.0</td>\n",
       "      <td>33600.0</td>\n",
       "      <td>33600.0</td>\n",
       "      <td>33600.0</td>\n",
       "      <td>...</td>\n",
       "      <td>33600.000000</td>\n",
       "      <td>33600.000000</td>\n",
       "      <td>33600.000000</td>\n",
       "      <td>33600.000000</td>\n",
       "      <td>33600.000000</td>\n",
       "      <td>33600.000000</td>\n",
       "      <td>33600.0</td>\n",
       "      <td>33600.0</td>\n",
       "      <td>33600.0</td>\n",
       "      <td>33600.0</td>\n",
       "    </tr>\n",
       "    <tr>\n",
       "      <th>mean</th>\n",
       "      <td>0.0</td>\n",
       "      <td>0.0</td>\n",
       "      <td>0.0</td>\n",
       "      <td>0.0</td>\n",
       "      <td>0.0</td>\n",
       "      <td>0.0</td>\n",
       "      <td>0.0</td>\n",
       "      <td>0.0</td>\n",
       "      <td>0.0</td>\n",
       "      <td>0.0</td>\n",
       "      <td>...</td>\n",
       "      <td>0.227827</td>\n",
       "      <td>0.130268</td>\n",
       "      <td>0.064226</td>\n",
       "      <td>0.021429</td>\n",
       "      <td>0.021548</td>\n",
       "      <td>0.003571</td>\n",
       "      <td>0.0</td>\n",
       "      <td>0.0</td>\n",
       "      <td>0.0</td>\n",
       "      <td>0.0</td>\n",
       "    </tr>\n",
       "    <tr>\n",
       "      <th>std</th>\n",
       "      <td>0.0</td>\n",
       "      <td>0.0</td>\n",
       "      <td>0.0</td>\n",
       "      <td>0.0</td>\n",
       "      <td>0.0</td>\n",
       "      <td>0.0</td>\n",
       "      <td>0.0</td>\n",
       "      <td>0.0</td>\n",
       "      <td>0.0</td>\n",
       "      <td>0.0</td>\n",
       "      <td>...</td>\n",
       "      <td>6.578347</td>\n",
       "      <td>4.818621</td>\n",
       "      <td>3.437205</td>\n",
       "      <td>1.839529</td>\n",
       "      <td>2.118097</td>\n",
       "      <td>0.463160</td>\n",
       "      <td>0.0</td>\n",
       "      <td>0.0</td>\n",
       "      <td>0.0</td>\n",
       "      <td>0.0</td>\n",
       "    </tr>\n",
       "    <tr>\n",
       "      <th>min</th>\n",
       "      <td>0.0</td>\n",
       "      <td>0.0</td>\n",
       "      <td>0.0</td>\n",
       "      <td>0.0</td>\n",
       "      <td>0.0</td>\n",
       "      <td>0.0</td>\n",
       "      <td>0.0</td>\n",
       "      <td>0.0</td>\n",
       "      <td>0.0</td>\n",
       "      <td>0.0</td>\n",
       "      <td>...</td>\n",
       "      <td>0.000000</td>\n",
       "      <td>0.000000</td>\n",
       "      <td>0.000000</td>\n",
       "      <td>0.000000</td>\n",
       "      <td>0.000000</td>\n",
       "      <td>0.000000</td>\n",
       "      <td>0.0</td>\n",
       "      <td>0.0</td>\n",
       "      <td>0.0</td>\n",
       "      <td>0.0</td>\n",
       "    </tr>\n",
       "    <tr>\n",
       "      <th>25%</th>\n",
       "      <td>0.0</td>\n",
       "      <td>0.0</td>\n",
       "      <td>0.0</td>\n",
       "      <td>0.0</td>\n",
       "      <td>0.0</td>\n",
       "      <td>0.0</td>\n",
       "      <td>0.0</td>\n",
       "      <td>0.0</td>\n",
       "      <td>0.0</td>\n",
       "      <td>0.0</td>\n",
       "      <td>...</td>\n",
       "      <td>0.000000</td>\n",
       "      <td>0.000000</td>\n",
       "      <td>0.000000</td>\n",
       "      <td>0.000000</td>\n",
       "      <td>0.000000</td>\n",
       "      <td>0.000000</td>\n",
       "      <td>0.0</td>\n",
       "      <td>0.0</td>\n",
       "      <td>0.0</td>\n",
       "      <td>0.0</td>\n",
       "    </tr>\n",
       "    <tr>\n",
       "      <th>50%</th>\n",
       "      <td>0.0</td>\n",
       "      <td>0.0</td>\n",
       "      <td>0.0</td>\n",
       "      <td>0.0</td>\n",
       "      <td>0.0</td>\n",
       "      <td>0.0</td>\n",
       "      <td>0.0</td>\n",
       "      <td>0.0</td>\n",
       "      <td>0.0</td>\n",
       "      <td>0.0</td>\n",
       "      <td>...</td>\n",
       "      <td>0.000000</td>\n",
       "      <td>0.000000</td>\n",
       "      <td>0.000000</td>\n",
       "      <td>0.000000</td>\n",
       "      <td>0.000000</td>\n",
       "      <td>0.000000</td>\n",
       "      <td>0.0</td>\n",
       "      <td>0.0</td>\n",
       "      <td>0.0</td>\n",
       "      <td>0.0</td>\n",
       "    </tr>\n",
       "    <tr>\n",
       "      <th>75%</th>\n",
       "      <td>0.0</td>\n",
       "      <td>0.0</td>\n",
       "      <td>0.0</td>\n",
       "      <td>0.0</td>\n",
       "      <td>0.0</td>\n",
       "      <td>0.0</td>\n",
       "      <td>0.0</td>\n",
       "      <td>0.0</td>\n",
       "      <td>0.0</td>\n",
       "      <td>0.0</td>\n",
       "      <td>...</td>\n",
       "      <td>0.000000</td>\n",
       "      <td>0.000000</td>\n",
       "      <td>0.000000</td>\n",
       "      <td>0.000000</td>\n",
       "      <td>0.000000</td>\n",
       "      <td>0.000000</td>\n",
       "      <td>0.0</td>\n",
       "      <td>0.0</td>\n",
       "      <td>0.0</td>\n",
       "      <td>0.0</td>\n",
       "    </tr>\n",
       "    <tr>\n",
       "      <th>max</th>\n",
       "      <td>0.0</td>\n",
       "      <td>0.0</td>\n",
       "      <td>0.0</td>\n",
       "      <td>0.0</td>\n",
       "      <td>0.0</td>\n",
       "      <td>0.0</td>\n",
       "      <td>0.0</td>\n",
       "      <td>0.0</td>\n",
       "      <td>0.0</td>\n",
       "      <td>0.0</td>\n",
       "      <td>...</td>\n",
       "      <td>254.000000</td>\n",
       "      <td>254.000000</td>\n",
       "      <td>253.000000</td>\n",
       "      <td>253.000000</td>\n",
       "      <td>254.000000</td>\n",
       "      <td>62.000000</td>\n",
       "      <td>0.0</td>\n",
       "      <td>0.0</td>\n",
       "      <td>0.0</td>\n",
       "      <td>0.0</td>\n",
       "    </tr>\n",
       "  </tbody>\n",
       "</table>\n",
       "<p>8 rows × 784 columns</p>\n",
       "</div>"
      ],
      "text/plain": [
       "        pixel0   pixel1   pixel2   pixel3   pixel4   pixel5   pixel6   pixel7  \\\n",
       "count  33600.0  33600.0  33600.0  33600.0  33600.0  33600.0  33600.0  33600.0   \n",
       "mean       0.0      0.0      0.0      0.0      0.0      0.0      0.0      0.0   \n",
       "std        0.0      0.0      0.0      0.0      0.0      0.0      0.0      0.0   \n",
       "min        0.0      0.0      0.0      0.0      0.0      0.0      0.0      0.0   \n",
       "25%        0.0      0.0      0.0      0.0      0.0      0.0      0.0      0.0   \n",
       "50%        0.0      0.0      0.0      0.0      0.0      0.0      0.0      0.0   \n",
       "75%        0.0      0.0      0.0      0.0      0.0      0.0      0.0      0.0   \n",
       "max        0.0      0.0      0.0      0.0      0.0      0.0      0.0      0.0   \n",
       "\n",
       "        pixel8   pixel9  ...      pixel774      pixel775      pixel776  \\\n",
       "count  33600.0  33600.0  ...  33600.000000  33600.000000  33600.000000   \n",
       "mean       0.0      0.0  ...      0.227827      0.130268      0.064226   \n",
       "std        0.0      0.0  ...      6.578347      4.818621      3.437205   \n",
       "min        0.0      0.0  ...      0.000000      0.000000      0.000000   \n",
       "25%        0.0      0.0  ...      0.000000      0.000000      0.000000   \n",
       "50%        0.0      0.0  ...      0.000000      0.000000      0.000000   \n",
       "75%        0.0      0.0  ...      0.000000      0.000000      0.000000   \n",
       "max        0.0      0.0  ...    254.000000    254.000000    253.000000   \n",
       "\n",
       "           pixel777      pixel778      pixel779  pixel780  pixel781  pixel782  \\\n",
       "count  33600.000000  33600.000000  33600.000000   33600.0   33600.0   33600.0   \n",
       "mean       0.021429      0.021548      0.003571       0.0       0.0       0.0   \n",
       "std        1.839529      2.118097      0.463160       0.0       0.0       0.0   \n",
       "min        0.000000      0.000000      0.000000       0.0       0.0       0.0   \n",
       "25%        0.000000      0.000000      0.000000       0.0       0.0       0.0   \n",
       "50%        0.000000      0.000000      0.000000       0.0       0.0       0.0   \n",
       "75%        0.000000      0.000000      0.000000       0.0       0.0       0.0   \n",
       "max      253.000000    254.000000     62.000000       0.0       0.0       0.0   \n",
       "\n",
       "       pixel783  \n",
       "count   33600.0  \n",
       "mean        0.0  \n",
       "std         0.0  \n",
       "min         0.0  \n",
       "25%         0.0  \n",
       "50%         0.0  \n",
       "75%         0.0  \n",
       "max         0.0  \n",
       "\n",
       "[8 rows x 784 columns]"
      ]
     },
     "execution_count": 19,
     "metadata": {},
     "output_type": "execute_result"
    }
   ],
   "source": [
    "X_train.describe()"
   ]
  },
  {
   "cell_type": "code",
   "execution_count": 20,
   "id": "673d4aeb",
   "metadata": {},
   "outputs": [],
   "source": [
    "description = X_train.describe()"
   ]
  },
  {
   "cell_type": "code",
   "execution_count": 21,
   "id": "8834dbde",
   "metadata": {},
   "outputs": [
    {
     "data": {
      "text/plain": [
       "array([[0.0000e+00, 0.0000e+00, 0.0000e+00, 0.0000e+00, 0.0000e+00,\n",
       "        0.0000e+00, 0.0000e+00, 0.0000e+00, 0.0000e+00, 0.0000e+00,\n",
       "        0.0000e+00, 0.0000e+00, 0.0000e+00, 1.0000e-02, 0.0000e+00,\n",
       "        0.0000e+00, 0.0000e+00, 0.0000e+00, 0.0000e+00, 0.0000e+00,\n",
       "        0.0000e+00, 0.0000e+00, 0.0000e+00, 0.0000e+00, 0.0000e+00,\n",
       "        0.0000e+00, 0.0000e+00, 0.0000e+00],\n",
       "       [0.0000e+00, 0.0000e+00, 0.0000e+00, 0.0000e+00, 0.0000e+00,\n",
       "        0.0000e+00, 1.0000e-02, 3.0000e-02, 4.0000e-02, 6.0000e-02,\n",
       "        1.2000e-01, 1.7000e-01, 1.9000e-01, 2.0000e-01, 2.0000e-01,\n",
       "        1.8000e-01, 1.6000e-01, 1.2000e-01, 9.0000e-02, 6.0000e-02,\n",
       "        4.0000e-02, 2.0000e-02, 1.0000e-02, 1.0000e-02, 0.0000e+00,\n",
       "        0.0000e+00, 0.0000e+00, 0.0000e+00],\n",
       "       [0.0000e+00, 0.0000e+00, 0.0000e+00, 0.0000e+00, 1.0000e-02,\n",
       "        1.0000e-02, 7.0000e-02, 1.7000e-01, 3.2000e-01, 5.4000e-01,\n",
       "        8.3000e-01, 1.3000e+00, 1.9800e+00, 2.7200e+00, 3.4400e+00,\n",
       "        3.8100e+00, 3.7200e+00, 3.3300e+00, 2.7200e+00, 1.9900e+00,\n",
       "        1.2100e+00, 6.1000e-01, 2.9000e-01, 9.0000e-02, 3.0000e-02,\n",
       "        1.0000e-02, 0.0000e+00, 0.0000e+00],\n",
       "       [0.0000e+00, 0.0000e+00, 0.0000e+00, 0.0000e+00, 2.0000e-02,\n",
       "        9.0000e-02, 2.2000e-01, 5.3000e-01, 1.2100e+00, 2.3200e+00,\n",
       "        3.7400e+00, 5.6600e+00, 7.6100e+00, 9.8400e+00, 1.1830e+01,\n",
       "        1.3160e+01, 1.2920e+01, 1.1500e+01, 9.3400e+00, 6.8000e+00,\n",
       "        4.1400e+00, 2.2600e+00, 1.0800e+00, 4.2000e-01, 1.6000e-01,\n",
       "        3.0000e-02, 0.0000e+00, 0.0000e+00],\n",
       "       [0.0000e+00, 0.0000e+00, 0.0000e+00, 1.0000e-02, 9.0000e-02,\n",
       "        4.0000e-01, 1.0500e+00, 2.4800e+00, 4.9600e+00, 8.6400e+00,\n",
       "        1.3740e+01, 2.0160e+01, 2.7760e+01, 3.5850e+01, 4.2360e+01,\n",
       "        4.5720e+01, 4.4330e+01, 3.9000e+01, 3.1220e+01, 2.2970e+01,\n",
       "        1.4830e+01, 8.7700e+00, 4.5800e+00, 2.1400e+00, 8.9000e-01,\n",
       "        2.1000e-01, 4.0000e-02, 0.0000e+00],\n",
       "       [0.0000e+00, 0.0000e+00, 1.0000e-02, 4.0000e-02, 4.0000e-01,\n",
       "        1.4800e+00, 3.5500e+00, 7.1200e+00, 1.2860e+01, 2.1300e+01,\n",
       "        3.2050e+01, 4.5210e+01, 6.0010e+01, 7.4920e+01, 8.6160e+01,\n",
       "        9.1530e+01, 8.9620e+01, 8.0660e+01, 6.6140e+01, 4.9670e+01,\n",
       "        3.4510e+01, 2.1830e+01, 1.2510e+01, 6.4300e+00, 2.9100e+00,\n",
       "        7.5000e-01, 1.2000e-01, 0.0000e+00],\n",
       "       [0.0000e+00, 0.0000e+00, 3.0000e-02, 2.4000e-01, 1.1600e+00,\n",
       "        3.2800e+00, 7.3500e+00, 1.4050e+01, 2.4040e+01, 3.7680e+01,\n",
       "        5.3870e+01, 7.2120e+01, 9.0650e+01, 1.0777e+02, 1.2005e+02,\n",
       "        1.2512e+02, 1.2212e+02, 1.1193e+02, 9.5640e+01, 7.4600e+01,\n",
       "        5.3960e+01, 3.5360e+01, 2.0990e+01, 1.1210e+01, 5.2300e+00,\n",
       "        1.6800e+00, 3.5000e-01, 2.0000e-02],\n",
       "       [0.0000e+00, 2.0000e-02, 1.2000e-01, 6.8000e-01, 2.5400e+00,\n",
       "        6.0000e+00, 1.2350e+01, 2.2240e+01, 3.6410e+01, 5.4580e+01,\n",
       "        7.4770e+01, 9.5530e+01, 1.1336e+02, 1.2689e+02, 1.3411e+02,\n",
       "        1.3565e+02, 1.3273e+02, 1.2571e+02, 1.1238e+02, 9.2540e+01,\n",
       "        6.8960e+01, 4.6300e+01, 2.7740e+01, 1.4790e+01, 6.7200e+00,\n",
       "        2.2800e+00, 4.7000e-01, 2.0000e-02],\n",
       "       [0.0000e+00, 8.0000e-02, 4.0000e-01, 1.4500e+00, 4.0800e+00,\n",
       "        8.7700e+00, 1.6980e+01, 2.9640e+01, 4.7370e+01, 6.9000e+01,\n",
       "        9.1990e+01, 1.1042e+02, 1.2102e+02, 1.2413e+02, 1.2315e+02,\n",
       "        1.2158e+02, 1.2167e+02, 1.2120e+02, 1.1565e+02, 9.9900e+01,\n",
       "        7.6670e+01, 5.2100e+01, 3.1280e+01, 1.6000e+01, 6.9300e+00,\n",
       "        2.4500e+00, 4.4000e-01, 2.0000e-02],\n",
       "       [1.0000e-02, 1.1000e-01, 5.5000e-01, 1.8400e+00, 4.6600e+00,\n",
       "        9.8900e+00, 1.9570e+01, 3.4430e+01, 5.5460e+01, 7.9730e+01,\n",
       "        1.0102e+02, 1.1214e+02, 1.1129e+02, 1.0406e+02, 9.8290e+01,\n",
       "        9.8390e+01, 1.0353e+02, 1.1044e+02, 1.1108e+02, 9.9090e+01,\n",
       "        7.6840e+01, 5.2250e+01, 3.0900e+01, 1.5060e+01, 5.9100e+00,\n",
       "        1.8600e+00, 3.1000e-01, 3.0000e-02],\n",
       "       [2.0000e-02, 1.0000e-01, 5.3000e-01, 1.7400e+00, 4.2900e+00,\n",
       "        9.8400e+00, 2.0430e+01, 3.7100e+01, 6.0600e+01, 8.5070e+01,\n",
       "        1.0195e+02, 1.0388e+02, 9.3210e+01, 8.1870e+01, 7.8740e+01,\n",
       "        8.3740e+01, 9.3750e+01, 1.0457e+02, 1.0677e+02, 9.4220e+01,\n",
       "        7.1520e+01, 4.7900e+01, 2.8080e+01, 1.3450e+01, 4.6400e+00,\n",
       "        1.1800e+00, 2.4000e-01, 4.0000e-02],\n",
       "       [0.0000e+00, 7.0000e-02, 4.4000e-01, 1.3200e+00, 3.5400e+00,\n",
       "        9.4400e+00, 2.0940e+01, 3.9850e+01, 6.5080e+01, 8.8500e+01,\n",
       "        9.9860e+01, 9.5080e+01, 8.1250e+01, 7.3030e+01, 7.5990e+01,\n",
       "        8.5630e+01, 9.8010e+01, 1.0837e+02, 1.0596e+02, 8.8670e+01,\n",
       "        6.4570e+01, 4.2470e+01, 2.5360e+01, 1.2560e+01, 4.1000e+00,\n",
       "        6.6000e-01, 1.5000e-01, 1.0000e-02],\n",
       "       [0.0000e+00, 4.0000e-02, 2.8000e-01, 9.4000e-01, 2.9500e+00,\n",
       "        9.4200e+00, 2.2580e+01, 4.3930e+01, 6.9470e+01, 9.1120e+01,\n",
       "        9.8770e+01, 9.1460e+01, 7.9920e+01, 7.9900e+01, 8.9600e+01,\n",
       "        1.0216e+02, 1.1419e+02, 1.1876e+02, 1.0778e+02, 8.3910e+01,\n",
       "        5.7970e+01, 3.8220e+01, 2.4060e+01, 1.2850e+01, 4.3800e+00,\n",
       "        4.8000e-01, 8.0000e-02, 1.0000e-02],\n",
       "       [0.0000e+00, 2.0000e-02, 1.4000e-01, 6.4000e-01, 2.7800e+00,\n",
       "        1.0510e+01, 2.5460e+01, 4.7740e+01, 7.2790e+01, 9.1760e+01,\n",
       "        9.7180e+01, 9.1440e+01, 8.7160e+01, 9.7180e+01, 1.1154e+02,\n",
       "        1.2451e+02, 1.3074e+02, 1.2760e+02, 1.0927e+02, 8.0870e+01,\n",
       "        5.4990e+01, 3.7410e+01, 2.4350e+01, 1.3880e+01, 5.2000e+00,\n",
       "        6.2000e-01, 8.0000e-02, 1.0000e-02],\n",
       "       [0.0000e+00, 1.0000e-02, 5.0000e-02, 4.4000e-01, 2.9200e+00,\n",
       "        1.2300e+01, 2.8280e+01, 5.0340e+01, 7.3550e+01, 8.9810e+01,\n",
       "        9.4700e+01, 9.2930e+01, 9.7350e+01, 1.1526e+02, 1.3029e+02,\n",
       "        1.4008e+02, 1.3761e+02, 1.2872e+02, 1.0755e+02, 7.9710e+01,\n",
       "        5.6380e+01, 3.9300e+01, 2.5910e+01, 1.4890e+01, 5.8400e+00,\n",
       "        8.3000e-01, 7.0000e-02, 0.0000e+00],\n",
       "       [0.0000e+00, 0.0000e+00, 4.0000e-02, 5.1000e-01, 3.5000e+00,\n",
       "        1.4280e+01, 3.0520e+01, 5.0740e+01, 7.1180e+01, 8.5350e+01,\n",
       "        9.0840e+01, 9.3870e+01, 1.0476e+02, 1.2319e+02, 1.3573e+02,\n",
       "        1.3928e+02, 1.3221e+02, 1.2197e+02, 1.0203e+02, 7.9130e+01,\n",
       "        5.9000e+01, 4.1790e+01, 2.7270e+01, 1.5080e+01, 5.8400e+00,\n",
       "        1.0400e+00, 1.3000e-01, 1.0000e-02],\n",
       "       [0.0000e+00, 0.0000e+00, 8.0000e-02, 7.1000e-01, 4.4700e+00,\n",
       "        1.6260e+01, 3.2060e+01, 4.9710e+01, 6.6600e+01, 7.8090e+01,\n",
       "        8.3800e+01, 8.9200e+01, 1.0059e+02, 1.1527e+02, 1.2607e+02,\n",
       "        1.2756e+02, 1.2142e+02, 1.1131e+02, 9.5870e+01, 7.8490e+01,\n",
       "        6.0710e+01, 4.2640e+01, 2.7110e+01, 1.4240e+01, 5.4900e+00,\n",
       "        1.2100e+00, 1.9000e-01, 2.0000e-02],\n",
       "       [0.0000e+00, 0.0000e+00, 1.2000e-01, 1.0200e+00, 5.9600e+00,\n",
       "        1.8100e+01, 3.3230e+01, 4.8120e+01, 6.0950e+01, 6.9520e+01,\n",
       "        7.4720e+01, 8.0400e+01, 8.8790e+01, 1.0074e+02, 1.1185e+02,\n",
       "        1.1551e+02, 1.1282e+02, 1.0518e+02, 9.3420e+01, 7.8620e+01,\n",
       "        6.0490e+01, 4.1560e+01, 2.5240e+01, 1.2730e+01, 5.0200e+00,\n",
       "        1.3500e+00, 2.1000e-01, 2.0000e-02],\n",
       "       [0.0000e+00, 1.0000e-02, 1.8000e-01, 1.5600e+00, 7.5800e+00,\n",
       "        2.0160e+01, 3.4750e+01, 4.8370e+01, 5.8600e+01, 6.5750e+01,\n",
       "        7.1240e+01, 7.5990e+01, 8.2160e+01, 9.3590e+01, 1.0574e+02,\n",
       "        1.1255e+02, 1.1236e+02, 1.0628e+02, 9.4640e+01, 7.7960e+01,\n",
       "        5.7820e+01, 3.8530e+01, 2.2640e+01, 1.1190e+01, 4.5000e+00,\n",
       "        1.3000e+00, 1.6000e-01, 1.0000e-02],\n",
       "       [0.0000e+00, 1.0000e-02, 2.9000e-01, 2.0800e+00, 8.6800e+00,\n",
       "        2.1630e+01, 3.7050e+01, 5.1220e+01, 6.2770e+01, 7.1150e+01,\n",
       "        7.7400e+01, 8.1740e+01, 8.8790e+01, 9.9740e+01, 1.1220e+02,\n",
       "        1.1863e+02, 1.1734e+02, 1.0879e+02, 9.3480e+01, 7.3030e+01,\n",
       "        5.1960e+01, 3.3480e+01, 1.8980e+01, 9.0800e+00, 3.5100e+00,\n",
       "        1.0400e+00, 1.5000e-01, 0.0000e+00],\n",
       "       [0.0000e+00, 1.0000e-02, 3.2000e-01, 2.3200e+00, 8.5900e+00,\n",
       "        2.0740e+01, 3.7220e+01, 5.4200e+01, 6.9430e+01, 8.1550e+01,\n",
       "        9.0370e+01, 9.7430e+01, 1.0586e+02, 1.1664e+02, 1.2546e+02,\n",
       "        1.2661e+02, 1.1967e+02, 1.0515e+02, 8.4930e+01, 6.2120e+01,\n",
       "        4.1610e+01, 2.5390e+01, 1.3640e+01, 6.4600e+00, 2.6100e+00,\n",
       "        7.4000e-01, 1.0000e-01, 0.0000e+00],\n",
       "       [0.0000e+00, 1.0000e-02, 2.6000e-01, 1.8800e+00, 6.7300e+00,\n",
       "        1.6990e+01, 3.2820e+01, 5.1870e+01, 7.0930e+01, 8.7960e+01,\n",
       "        1.0144e+02, 1.1240e+02, 1.2246e+02, 1.3066e+02, 1.3276e+02,\n",
       "        1.2602e+02, 1.1148e+02, 9.0720e+01, 6.7460e+01, 4.6130e+01,\n",
       "        2.8860e+01, 1.6260e+01, 8.4500e+00, 4.1300e+00, 1.6100e+00,\n",
       "        4.3000e-01, 7.0000e-02, 0.0000e+00],\n",
       "       [0.0000e+00, 0.0000e+00, 1.4000e-01, 1.1500e+00, 3.9900e+00,\n",
       "        1.0920e+01, 2.3350e+01, 4.0390e+01, 6.1010e+01, 8.1150e+01,\n",
       "        9.9320e+01, 1.1300e+02, 1.2261e+02, 1.2584e+02, 1.2153e+02,\n",
       "        1.0814e+02, 8.8950e+01, 6.6880e+01, 4.5750e+01, 2.8960e+01,\n",
       "        1.6790e+01, 9.0000e+00, 4.5900e+00, 2.0700e+00, 7.7000e-01,\n",
       "        1.9000e-01, 3.0000e-02, 0.0000e+00],\n",
       "       [0.0000e+00, 0.0000e+00, 5.0000e-02, 4.7000e-01, 1.7800e+00,\n",
       "        4.9900e+00, 1.1980e+01, 2.3660e+01, 3.9890e+01, 5.8450e+01,\n",
       "        7.6690e+01, 9.1750e+01, 9.9990e+01, 9.9850e+01, 9.1490e+01,\n",
       "        7.6590e+01, 5.8550e+01, 4.0960e+01, 2.5970e+01, 1.5340e+01,\n",
       "        8.4600e+00, 4.3600e+00, 2.1300e+00, 9.6000e-01, 2.9000e-01,\n",
       "        7.0000e-02, 1.0000e-02, 0.0000e+00],\n",
       "       [0.0000e+00, 0.0000e+00, 2.0000e-02, 1.6000e-01, 5.6000e-01,\n",
       "        1.5900e+00, 4.1000e+00, 8.7900e+00, 1.6220e+01, 2.6240e+01,\n",
       "        3.7010e+01, 4.6160e+01, 5.1210e+01, 5.1280e+01, 4.6160e+01,\n",
       "        3.7470e+01, 2.8320e+01, 1.9750e+01, 1.2400e+01, 7.3600e+00,\n",
       "        3.9900e+00, 2.0100e+00, 9.5000e-01, 4.2000e-01, 1.1000e-01,\n",
       "        2.0000e-02, 0.0000e+00, 0.0000e+00],\n",
       "       [0.0000e+00, 0.0000e+00, 0.0000e+00, 3.0000e-02, 1.7000e-01,\n",
       "        4.8000e-01, 1.3000e+00, 2.9400e+00, 5.7200e+00, 9.2900e+00,\n",
       "        1.3320e+01, 1.6390e+01, 1.7980e+01, 1.7840e+01, 1.6080e+01,\n",
       "        1.3720e+01, 1.1010e+01, 8.1700e+00, 5.4100e+00, 3.2400e+00,\n",
       "        1.7800e+00, 8.6000e-01, 3.8000e-01, 1.5000e-01, 3.0000e-02,\n",
       "        1.0000e-02, 0.0000e+00, 0.0000e+00],\n",
       "       [0.0000e+00, 0.0000e+00, 0.0000e+00, 0.0000e+00, 3.0000e-02,\n",
       "        1.5000e-01, 5.1000e-01, 1.1100e+00, 2.0800e+00, 3.1500e+00,\n",
       "        4.6200e+00, 6.0000e+00, 6.6100e+00, 6.4600e+00, 5.6500e+00,\n",
       "        4.6700e+00, 3.8800e+00, 2.8100e+00, 1.8200e+00, 1.1300e+00,\n",
       "        6.0000e-01, 2.5000e-01, 1.0000e-01, 3.0000e-02, 0.0000e+00,\n",
       "        0.0000e+00, 0.0000e+00, 0.0000e+00],\n",
       "       [0.0000e+00, 0.0000e+00, 0.0000e+00, 0.0000e+00, 0.0000e+00,\n",
       "        1.0000e-02, 3.0000e-02, 7.0000e-02, 1.0000e-01, 1.8000e-01,\n",
       "        3.2000e-01, 4.2000e-01, 5.0000e-01, 5.2000e-01, 6.5000e-01,\n",
       "        6.0000e-01, 5.1000e-01, 3.4000e-01, 2.3000e-01, 1.3000e-01,\n",
       "        6.0000e-02, 2.0000e-02, 2.0000e-02, 0.0000e+00, 0.0000e+00,\n",
       "        0.0000e+00, 0.0000e+00, 0.0000e+00]])"
      ]
     },
     "execution_count": 21,
     "metadata": {},
     "output_type": "execute_result"
    }
   ],
   "source": [
    "description.loc['mean'].values.reshape(28, 28).round(2)"
   ]
  },
  {
   "cell_type": "code",
   "execution_count": 22,
   "id": "4aa274a8",
   "metadata": {},
   "outputs": [
    {
     "data": {
      "text/plain": [
       "<AxesSubplot:>"
      ]
     },
     "execution_count": 22,
     "metadata": {},
     "output_type": "execute_result"
    },
    {
     "data": {
      "image/png": "[encoded data removed]",
      "text/plain": [
       "<Figure size 842.4x595.44 with 2 Axes>"
      ]
     },
     "metadata": {},
     "output_type": "display_data"
    }
   ],
   "source": [
    "sns.heatmap(pd.DataFrame(description.loc['mean'].values.reshape(28, 28).round(2)))"
   ]
  },
  {
   "cell_type": "code",
   "execution_count": 23,
   "id": "d25eadeb",
   "metadata": {},
   "outputs": [
    {
     "data": {
      "text/plain": [
       "<AxesSubplot:>"
      ]
     },
     "execution_count": 23,
     "metadata": {},
     "output_type": "execute_result"
    },
    {
     "data": {
      "image/png": "[encoded data removed]",
      "text/plain": [
       "<Figure size 842.4x595.44 with 2 Axes>"
      ]
     },
     "metadata": {},
     "output_type": "display_data"
    }
   ],
   "source": [
    "sns.heatmap(pd.DataFrame(description.loc['std'].values.reshape(28, 28).round(2)))"
   ]
  },
  {
   "cell_type": "code",
   "execution_count": 26,
   "id": "6016b0b9",
   "metadata": {},
   "outputs": [],
   "source": [
    "## feature selector that removes all low-variance features.\n",
    "from sklearn.feature_selection import VarianceThreshold"
   ]
  },
  {
   "cell_type": "code",
   "execution_count": 27,
   "id": "26437f0b",
   "metadata": {},
   "outputs": [
    {
     "data": {
      "text/plain": [
       "VarianceThreshold(threshold=0)"
      ]
     },
     "execution_count": 27,
     "metadata": {},
     "output_type": "execute_result"
    }
   ],
   "source": [
    "selector = VarianceThreshold(threshold=0)\n",
    "selector.fit(X_train)"
   ]
  },
  {
   "cell_type": "code",
   "execution_count": 28,
   "id": "b343f7a8",
   "metadata": {},
   "outputs": [
    {
     "data": {
      "text/plain": [
       "784"
      ]
     },
     "execution_count": 28,
     "metadata": {},
     "output_type": "execute_result"
    }
   ],
   "source": [
    "len(X_train.columns)"
   ]
  },
  {
   "cell_type": "code",
   "execution_count": 29,
   "id": "b120df11",
   "metadata": {},
   "outputs": [
    {
     "data": {
      "text/plain": [
       "697"
      ]
     },
     "execution_count": 29,
     "metadata": {},
     "output_type": "execute_result"
    }
   ],
   "source": [
    "len(selector.transform(X_train)[0])"
   ]
  },
  {
   "cell_type": "code",
   "execution_count": 36,
   "id": "74869df3",
   "metadata": {},
   "outputs": [
    {
     "data": {
      "text/plain": [
       "784"
      ]
     },
     "execution_count": 36,
     "metadata": {},
     "output_type": "execute_result"
    }
   ],
   "source": [
    "len(selector.get_feature_names_out())"
   ]
  },
  {
   "cell_type": "code",
   "execution_count": 87,
   "id": "f449c538",
   "metadata": {},
   "outputs": [],
   "source": [
    "X_train = X_train[selector.get_feature_names_out()]  ## не работает на работе: нет такого метода :("
   ]
  },
  {
   "cell_type": "code",
   "execution_count": 88,
   "id": "ca5bb36d",
   "metadata": {},
   "outputs": [
    {
     "data": {
      "text/html": [
       "<div>\n",
       "<style scoped>\n",
       "    .dataframe tbody tr th:only-of-type {\n",
       "        vertical-align: middle;\n",
       "    }\n",
       "\n",
       "    .dataframe tbody tr th {\n",
       "        vertical-align: top;\n",
       "    }\n",
       "\n",
       "    .dataframe thead th {\n",
       "        text-align: right;\n",
       "    }\n",
       "</style>\n",
       "<table border=\"1\" class=\"dataframe\">\n",
       "  <thead>\n",
       "    <tr style=\"text-align: right;\">\n",
       "      <th></th>\n",
       "      <th>pixel12</th>\n",
       "      <th>pixel13</th>\n",
       "      <th>pixel33</th>\n",
       "      <th>pixel34</th>\n",
       "      <th>pixel35</th>\n",
       "      <th>pixel36</th>\n",
       "      <th>pixel37</th>\n",
       "      <th>pixel38</th>\n",
       "      <th>pixel39</th>\n",
       "      <th>pixel40</th>\n",
       "      <th>...</th>\n",
       "      <th>pixel770</th>\n",
       "      <th>pixel771</th>\n",
       "      <th>pixel772</th>\n",
       "      <th>pixel773</th>\n",
       "      <th>pixel774</th>\n",
       "      <th>pixel775</th>\n",
       "      <th>pixel776</th>\n",
       "      <th>pixel777</th>\n",
       "      <th>pixel778</th>\n",
       "      <th>pixel779</th>\n",
       "    </tr>\n",
       "  </thead>\n",
       "  <tbody>\n",
       "    <tr>\n",
       "      <th>39317</th>\n",
       "      <td>0</td>\n",
       "      <td>0</td>\n",
       "      <td>0</td>\n",
       "      <td>0</td>\n",
       "      <td>0</td>\n",
       "      <td>0</td>\n",
       "      <td>0</td>\n",
       "      <td>0</td>\n",
       "      <td>0</td>\n",
       "      <td>0</td>\n",
       "      <td>...</td>\n",
       "      <td>0</td>\n",
       "      <td>0</td>\n",
       "      <td>0</td>\n",
       "      <td>0</td>\n",
       "      <td>0</td>\n",
       "      <td>0</td>\n",
       "      <td>0</td>\n",
       "      <td>0</td>\n",
       "      <td>0</td>\n",
       "      <td>0</td>\n",
       "    </tr>\n",
       "    <tr>\n",
       "      <th>32837</th>\n",
       "      <td>0</td>\n",
       "      <td>0</td>\n",
       "      <td>0</td>\n",
       "      <td>0</td>\n",
       "      <td>0</td>\n",
       "      <td>0</td>\n",
       "      <td>0</td>\n",
       "      <td>0</td>\n",
       "      <td>0</td>\n",
       "      <td>0</td>\n",
       "      <td>...</td>\n",
       "      <td>0</td>\n",
       "      <td>0</td>\n",
       "      <td>0</td>\n",
       "      <td>0</td>\n",
       "      <td>0</td>\n",
       "      <td>0</td>\n",
       "      <td>0</td>\n",
       "      <td>0</td>\n",
       "      <td>0</td>\n",
       "      <td>0</td>\n",
       "    </tr>\n",
       "    <tr>\n",
       "      <th>16644</th>\n",
       "      <td>0</td>\n",
       "      <td>0</td>\n",
       "      <td>0</td>\n",
       "      <td>0</td>\n",
       "      <td>0</td>\n",
       "      <td>0</td>\n",
       "      <td>0</td>\n",
       "      <td>0</td>\n",
       "      <td>0</td>\n",
       "      <td>0</td>\n",
       "      <td>...</td>\n",
       "      <td>0</td>\n",
       "      <td>0</td>\n",
       "      <td>0</td>\n",
       "      <td>0</td>\n",
       "      <td>0</td>\n",
       "      <td>0</td>\n",
       "      <td>0</td>\n",
       "      <td>0</td>\n",
       "      <td>0</td>\n",
       "      <td>0</td>\n",
       "    </tr>\n",
       "    <tr>\n",
       "      <th>20005</th>\n",
       "      <td>0</td>\n",
       "      <td>0</td>\n",
       "      <td>0</td>\n",
       "      <td>0</td>\n",
       "      <td>0</td>\n",
       "      <td>0</td>\n",
       "      <td>0</td>\n",
       "      <td>0</td>\n",
       "      <td>0</td>\n",
       "      <td>0</td>\n",
       "      <td>...</td>\n",
       "      <td>0</td>\n",
       "      <td>0</td>\n",
       "      <td>0</td>\n",
       "      <td>0</td>\n",
       "      <td>0</td>\n",
       "      <td>0</td>\n",
       "      <td>0</td>\n",
       "      <td>0</td>\n",
       "      <td>0</td>\n",
       "      <td>0</td>\n",
       "    </tr>\n",
       "    <tr>\n",
       "      <th>1533</th>\n",
       "      <td>0</td>\n",
       "      <td>0</td>\n",
       "      <td>0</td>\n",
       "      <td>0</td>\n",
       "      <td>0</td>\n",
       "      <td>0</td>\n",
       "      <td>0</td>\n",
       "      <td>0</td>\n",
       "      <td>0</td>\n",
       "      <td>0</td>\n",
       "      <td>...</td>\n",
       "      <td>0</td>\n",
       "      <td>0</td>\n",
       "      <td>0</td>\n",
       "      <td>0</td>\n",
       "      <td>0</td>\n",
       "      <td>0</td>\n",
       "      <td>0</td>\n",
       "      <td>0</td>\n",
       "      <td>0</td>\n",
       "      <td>0</td>\n",
       "    </tr>\n",
       "    <tr>\n",
       "      <th>...</th>\n",
       "      <td>...</td>\n",
       "      <td>...</td>\n",
       "      <td>...</td>\n",
       "      <td>...</td>\n",
       "      <td>...</td>\n",
       "      <td>...</td>\n",
       "      <td>...</td>\n",
       "      <td>...</td>\n",
       "      <td>...</td>\n",
       "      <td>...</td>\n",
       "      <td>...</td>\n",
       "      <td>...</td>\n",
       "      <td>...</td>\n",
       "      <td>...</td>\n",
       "      <td>...</td>\n",
       "      <td>...</td>\n",
       "      <td>...</td>\n",
       "      <td>...</td>\n",
       "      <td>...</td>\n",
       "      <td>...</td>\n",
       "      <td>...</td>\n",
       "    </tr>\n",
       "    <tr>\n",
       "      <th>41993</th>\n",
       "      <td>0</td>\n",
       "      <td>0</td>\n",
       "      <td>0</td>\n",
       "      <td>0</td>\n",
       "      <td>0</td>\n",
       "      <td>0</td>\n",
       "      <td>0</td>\n",
       "      <td>0</td>\n",
       "      <td>0</td>\n",
       "      <td>0</td>\n",
       "      <td>...</td>\n",
       "      <td>0</td>\n",
       "      <td>0</td>\n",
       "      <td>0</td>\n",
       "      <td>0</td>\n",
       "      <td>0</td>\n",
       "      <td>0</td>\n",
       "      <td>0</td>\n",
       "      <td>0</td>\n",
       "      <td>0</td>\n",
       "      <td>0</td>\n",
       "    </tr>\n",
       "    <tr>\n",
       "      <th>32103</th>\n",
       "      <td>0</td>\n",
       "      <td>0</td>\n",
       "      <td>0</td>\n",
       "      <td>0</td>\n",
       "      <td>0</td>\n",
       "      <td>0</td>\n",
       "      <td>0</td>\n",
       "      <td>0</td>\n",
       "      <td>0</td>\n",
       "      <td>0</td>\n",
       "      <td>...</td>\n",
       "      <td>0</td>\n",
       "      <td>0</td>\n",
       "      <td>0</td>\n",
       "      <td>0</td>\n",
       "      <td>0</td>\n",
       "      <td>0</td>\n",
       "      <td>0</td>\n",
       "      <td>0</td>\n",
       "      <td>0</td>\n",
       "      <td>0</td>\n",
       "    </tr>\n",
       "    <tr>\n",
       "      <th>30403</th>\n",
       "      <td>0</td>\n",
       "      <td>0</td>\n",
       "      <td>0</td>\n",
       "      <td>0</td>\n",
       "      <td>0</td>\n",
       "      <td>0</td>\n",
       "      <td>0</td>\n",
       "      <td>0</td>\n",
       "      <td>0</td>\n",
       "      <td>0</td>\n",
       "      <td>...</td>\n",
       "      <td>0</td>\n",
       "      <td>0</td>\n",
       "      <td>0</td>\n",
       "      <td>0</td>\n",
       "      <td>0</td>\n",
       "      <td>0</td>\n",
       "      <td>0</td>\n",
       "      <td>0</td>\n",
       "      <td>0</td>\n",
       "      <td>0</td>\n",
       "    </tr>\n",
       "    <tr>\n",
       "      <th>21243</th>\n",
       "      <td>0</td>\n",
       "      <td>0</td>\n",
       "      <td>0</td>\n",
       "      <td>0</td>\n",
       "      <td>0</td>\n",
       "      <td>0</td>\n",
       "      <td>0</td>\n",
       "      <td>0</td>\n",
       "      <td>0</td>\n",
       "      <td>0</td>\n",
       "      <td>...</td>\n",
       "      <td>0</td>\n",
       "      <td>0</td>\n",
       "      <td>0</td>\n",
       "      <td>0</td>\n",
       "      <td>0</td>\n",
       "      <td>0</td>\n",
       "      <td>0</td>\n",
       "      <td>0</td>\n",
       "      <td>0</td>\n",
       "      <td>0</td>\n",
       "    </tr>\n",
       "    <tr>\n",
       "      <th>2732</th>\n",
       "      <td>0</td>\n",
       "      <td>0</td>\n",
       "      <td>0</td>\n",
       "      <td>0</td>\n",
       "      <td>0</td>\n",
       "      <td>0</td>\n",
       "      <td>0</td>\n",
       "      <td>0</td>\n",
       "      <td>0</td>\n",
       "      <td>0</td>\n",
       "      <td>...</td>\n",
       "      <td>0</td>\n",
       "      <td>0</td>\n",
       "      <td>0</td>\n",
       "      <td>0</td>\n",
       "      <td>0</td>\n",
       "      <td>0</td>\n",
       "      <td>0</td>\n",
       "      <td>0</td>\n",
       "      <td>0</td>\n",
       "      <td>0</td>\n",
       "    </tr>\n",
       "  </tbody>\n",
       "</table>\n",
       "<p>33600 rows × 697 columns</p>\n",
       "</div>"
      ],
      "text/plain": [
       "       pixel12  pixel13  pixel33  pixel34  pixel35  pixel36  pixel37  pixel38  \\\n",
       "39317        0        0        0        0        0        0        0        0   \n",
       "32837        0        0        0        0        0        0        0        0   \n",
       "16644        0        0        0        0        0        0        0        0   \n",
       "20005        0        0        0        0        0        0        0        0   \n",
       "1533         0        0        0        0        0        0        0        0   \n",
       "...        ...      ...      ...      ...      ...      ...      ...      ...   \n",
       "41993        0        0        0        0        0        0        0        0   \n",
       "32103        0        0        0        0        0        0        0        0   \n",
       "30403        0        0        0        0        0        0        0        0   \n",
       "21243        0        0        0        0        0        0        0        0   \n",
       "2732         0        0        0        0        0        0        0        0   \n",
       "\n",
       "       pixel39  pixel40  ...  pixel770  pixel771  pixel772  pixel773  \\\n",
       "39317        0        0  ...         0         0         0         0   \n",
       "32837        0        0  ...         0         0         0         0   \n",
       "16644        0        0  ...         0         0         0         0   \n",
       "20005        0        0  ...         0         0         0         0   \n",
       "1533         0        0  ...         0         0         0         0   \n",
       "...        ...      ...  ...       ...       ...       ...       ...   \n",
       "41993        0        0  ...         0         0         0         0   \n",
       "32103        0        0  ...         0         0         0         0   \n",
       "30403        0        0  ...         0         0         0         0   \n",
       "21243        0        0  ...         0         0         0         0   \n",
       "2732         0        0  ...         0         0         0         0   \n",
       "\n",
       "       pixel774  pixel775  pixel776  pixel777  pixel778  pixel779  \n",
       "39317         0         0         0         0         0         0  \n",
       "32837         0         0         0         0         0         0  \n",
       "16644         0         0         0         0         0         0  \n",
       "20005         0         0         0         0         0         0  \n",
       "1533          0         0         0         0         0         0  \n",
       "...         ...       ...       ...       ...       ...       ...  \n",
       "41993         0         0         0         0         0         0  \n",
       "32103         0         0         0         0         0         0  \n",
       "30403         0         0         0         0         0         0  \n",
       "21243         0         0         0         0         0         0  \n",
       "2732          0         0         0         0         0         0  \n",
       "\n",
       "[33600 rows x 697 columns]"
      ]
     },
     "execution_count": 88,
     "metadata": {},
     "output_type": "execute_result"
    }
   ],
   "source": [
    "X_train"
   ]
  },
  {
   "cell_type": "markdown",
   "id": "4797d052",
   "metadata": {},
   "source": [
    "# Создание модели"
   ]
  },
  {
   "cell_type": "code",
   "execution_count": 39,
   "id": "9931e0be",
   "metadata": {},
   "outputs": [],
   "source": [
    "from sklearn.tree import DecisionTreeClassifier\n",
    "from sklearn.ensemble import RandomForestClassifier"
   ]
  },
  {
   "cell_type": "code",
   "execution_count": 40,
   "id": "b6d22201",
   "metadata": {},
   "outputs": [],
   "source": [
    "X_train, X_val, y_train, y_val = train_test_split(X_train, y_train, test_size=0.2, random_state=0)"
   ]
  },
  {
   "cell_type": "code",
   "execution_count": 41,
   "id": "7ec052bf",
   "metadata": {},
   "outputs": [],
   "source": [
    "## переобучимся: 1 элемент в листе разрешим\n",
    "model_decision_tree_1 = DecisionTreeClassifier(min_samples_leaf=1, criterion='gini', random_state=0)"
   ]
  },
  {
   "cell_type": "code",
   "execution_count": 42,
   "id": "4f25933f",
   "metadata": {},
   "outputs": [
    {
     "name": "stdout",
     "output_type": "stream",
     "text": [
      "Wall time: 7.61 s\n"
     ]
    },
    {
     "data": {
      "text/plain": [
       "DecisionTreeClassifier(random_state=0)"
      ]
     },
     "execution_count": 42,
     "metadata": {},
     "output_type": "execute_result"
    }
   ],
   "source": [
    "%%time\n",
    "\n",
    "model_decision_tree_1.fit(X_train, y_train)"
   ]
  },
  {
   "cell_type": "code",
   "execution_count": 43,
   "id": "fb80c3d7",
   "metadata": {},
   "outputs": [
    {
     "data": {
      "text/plain": [
       "1.0"
      ]
     },
     "execution_count": 43,
     "metadata": {},
     "output_type": "execute_result"
    }
   ],
   "source": [
    "model_decision_tree_1.score(X_train, y_train)"
   ]
  },
  {
   "cell_type": "code",
   "execution_count": 44,
   "id": "171800a9",
   "metadata": {},
   "outputs": [
    {
     "data": {
      "text/plain": [
       "0.840625"
      ]
     },
     "execution_count": 44,
     "metadata": {},
     "output_type": "execute_result"
    }
   ],
   "source": [
    "model_decision_tree_1.score(X_val, y_val)"
   ]
  },
  {
   "cell_type": "code",
   "execution_count": 45,
   "id": "bdba02b9",
   "metadata": {},
   "outputs": [],
   "source": [
    "## не меньше 3 элементов в листе\n",
    "model_decision_tree_3 = DecisionTreeClassifier(min_samples_leaf=3, criterion='gini', random_state=0)"
   ]
  },
  {
   "cell_type": "code",
   "execution_count": 46,
   "id": "2be5ddf5",
   "metadata": {},
   "outputs": [
    {
     "name": "stdout",
     "output_type": "stream",
     "text": [
      "Wall time: 6.87 s\n"
     ]
    },
    {
     "data": {
      "text/plain": [
       "DecisionTreeClassifier(min_samples_leaf=3, random_state=0)"
      ]
     },
     "execution_count": 46,
     "metadata": {},
     "output_type": "execute_result"
    }
   ],
   "source": [
    "%%time\n",
    "\n",
    "model_decision_tree_3.fit(X_train, y_train)"
   ]
  },
  {
   "cell_type": "code",
   "execution_count": 47,
   "id": "8034d0f6",
   "metadata": {},
   "outputs": [
    {
     "data": {
      "text/plain": [
       "0.9600074404761905"
      ]
     },
     "execution_count": 47,
     "metadata": {},
     "output_type": "execute_result"
    }
   ],
   "source": [
    "model_decision_tree_3.score(X_train, y_train)"
   ]
  },
  {
   "cell_type": "code",
   "execution_count": 48,
   "id": "77f01de2",
   "metadata": {},
   "outputs": [
    {
     "data": {
      "text/plain": [
       "0.8486607142857143"
      ]
     },
     "execution_count": 48,
     "metadata": {},
     "output_type": "execute_result"
    }
   ],
   "source": [
    "model_decision_tree_3.score(X_val, y_val)"
   ]
  },
  {
   "cell_type": "code",
   "execution_count": 49,
   "id": "e543e704",
   "metadata": {},
   "outputs": [],
   "source": [
    "## 5 в листе\n",
    "model_decision_tree_5 = DecisionTreeClassifier(min_samples_leaf=5, criterion='gini', random_state=0)"
   ]
  },
  {
   "cell_type": "code",
   "execution_count": 50,
   "id": "967b4069",
   "metadata": {},
   "outputs": [
    {
     "name": "stdout",
     "output_type": "stream",
     "text": [
      "Wall time: 6.45 s\n"
     ]
    },
    {
     "data": {
      "text/plain": [
       "DecisionTreeClassifier(min_samples_leaf=5, random_state=0)"
      ]
     },
     "execution_count": 50,
     "metadata": {},
     "output_type": "execute_result"
    }
   ],
   "source": [
    "%%time\n",
    "\n",
    "model_decision_tree_5.fit(X_train, y_train)"
   ]
  },
  {
   "cell_type": "code",
   "execution_count": 51,
   "id": "7675e2d3",
   "metadata": {},
   "outputs": [
    {
     "data": {
      "text/plain": [
       "0.938876488095238"
      ]
     },
     "execution_count": 51,
     "metadata": {},
     "output_type": "execute_result"
    }
   ],
   "source": [
    "model_decision_tree_5.score(X_train, y_train)"
   ]
  },
  {
   "cell_type": "code",
   "execution_count": 52,
   "id": "e9eaf461",
   "metadata": {},
   "outputs": [
    {
     "data": {
      "text/plain": [
       "0.8436011904761904"
      ]
     },
     "execution_count": 52,
     "metadata": {},
     "output_type": "execute_result"
    }
   ],
   "source": [
    "model_decision_tree_5.score(X_val, y_val)"
   ]
  },
  {
   "cell_type": "code",
   "execution_count": 53,
   "id": "0fa8549a",
   "metadata": {},
   "outputs": [],
   "source": [
    "## 10 в листе\n",
    "model_decision_tree_10 = DecisionTreeClassifier(min_samples_leaf=10, criterion='gini', random_state=0)"
   ]
  },
  {
   "cell_type": "code",
   "execution_count": 54,
   "id": "6e105880",
   "metadata": {},
   "outputs": [
    {
     "name": "stdout",
     "output_type": "stream",
     "text": [
      "Wall time: 5.79 s\n"
     ]
    },
    {
     "data": {
      "text/plain": [
       "DecisionTreeClassifier(min_samples_leaf=10, random_state=0)"
      ]
     },
     "execution_count": 54,
     "metadata": {},
     "output_type": "execute_result"
    }
   ],
   "source": [
    "%%time\n",
    "\n",
    "model_decision_tree_10.fit(X_train, y_train)"
   ]
  },
  {
   "cell_type": "code",
   "execution_count": 55,
   "id": "073c7a46",
   "metadata": {},
   "outputs": [
    {
     "data": {
      "text/plain": [
       "0.9066964285714286"
      ]
     },
     "execution_count": 55,
     "metadata": {},
     "output_type": "execute_result"
    }
   ],
   "source": [
    "model_decision_tree_10.score(X_train, y_train)"
   ]
  },
  {
   "cell_type": "code",
   "execution_count": 56,
   "id": "2890d32d",
   "metadata": {},
   "outputs": [
    {
     "data": {
      "text/plain": [
       "0.8424107142857142"
      ]
     },
     "execution_count": 56,
     "metadata": {},
     "output_type": "execute_result"
    }
   ],
   "source": [
    "model_decision_tree_10.score(X_val, y_val)"
   ]
  },
  {
   "cell_type": "code",
   "execution_count": 57,
   "id": "6bb041b0",
   "metadata": {},
   "outputs": [],
   "source": [
    "## случайный лес со 100 деревьями\n",
    "## рекомендация по максимальному количеству фич на листе при классификации: корень из количества фич\n",
    "model_random_forest_100 = RandomForestClassifier(n_estimators=100,\n",
    "                                                 min_samples_leaf=1,\n",
    "                                                 max_features=int(len(list(X_train.columns)) ** (1/2)),\n",
    "                                                 criterion='gini')"
   ]
  },
  {
   "cell_type": "code",
   "execution_count": 58,
   "id": "1b9ea414",
   "metadata": {
    "scrolled": true
   },
   "outputs": [
    {
     "name": "stdout",
     "output_type": "stream",
     "text": [
      "Wall time: 19.1 s\n"
     ]
    },
    {
     "data": {
      "text/plain": [
       "RandomForestClassifier(max_features=28)"
      ]
     },
     "execution_count": 58,
     "metadata": {},
     "output_type": "execute_result"
    }
   ],
   "source": [
    "%%time\n",
    "\n",
    "model_random_forest_100.fit(X_train, y_train)"
   ]
  },
  {
   "cell_type": "code",
   "execution_count": 59,
   "id": "7f9e3804",
   "metadata": {},
   "outputs": [
    {
     "name": "stdout",
     "output_type": "stream",
     "text": [
      "Wall time: 1.26 s\n"
     ]
    },
    {
     "data": {
      "text/plain": [
       "1.0"
      ]
     },
     "execution_count": 59,
     "metadata": {},
     "output_type": "execute_result"
    }
   ],
   "source": [
    "%%time\n",
    "\n",
    "model_random_forest_100.score(X_train, y_train)"
   ]
  },
  {
   "cell_type": "code",
   "execution_count": 60,
   "id": "b256ff8d",
   "metadata": {},
   "outputs": [
    {
     "name": "stdout",
     "output_type": "stream",
     "text": [
      "Wall time: 355 ms\n"
     ]
    },
    {
     "data": {
      "text/plain": [
       "0.9627976190476191"
      ]
     },
     "execution_count": 60,
     "metadata": {},
     "output_type": "execute_result"
    }
   ],
   "source": [
    "%%time\n",
    "\n",
    "model_random_forest_100.score(X_val, y_val)"
   ]
  },
  {
   "cell_type": "code",
   "execution_count": 61,
   "id": "4e9e30a8",
   "metadata": {},
   "outputs": [],
   "source": [
    "## случайный лес с 1000 деревьями\n",
    "model_random_forest_1000 = RandomForestClassifier(n_estimators=1000,\n",
    "                                                  min_samples_leaf=1,\n",
    "                                                  max_features=int(len(list(X_train.columns)) ** (1/2)),\n",
    "                                                  criterion='gini')"
   ]
  },
  {
   "cell_type": "code",
   "execution_count": 64,
   "id": "a9835dcd",
   "metadata": {},
   "outputs": [
    {
     "name": "stdout",
     "output_type": "stream",
     "text": [
      "Wall time: 3min 8s\n"
     ]
    },
    {
     "data": {
      "text/plain": [
       "RandomForestClassifier(max_features=28, n_estimators=1000)"
      ]
     },
     "execution_count": 64,
     "metadata": {},
     "output_type": "execute_result"
    }
   ],
   "source": [
    "%%time\n",
    "\n",
    "model_random_forest_1000.fit(X_train, y_train)"
   ]
  },
  {
   "cell_type": "code",
   "execution_count": 65,
   "id": "d4058b22",
   "metadata": {},
   "outputs": [
    {
     "name": "stdout",
     "output_type": "stream",
     "text": [
      "Wall time: 11.6 s\n"
     ]
    },
    {
     "data": {
      "text/plain": [
       "1.0"
      ]
     },
     "execution_count": 65,
     "metadata": {},
     "output_type": "execute_result"
    }
   ],
   "source": [
    "%%time\n",
    "\n",
    "model_random_forest_1000.score(X_train, y_train)"
   ]
  },
  {
   "cell_type": "code",
   "execution_count": 66,
   "id": "280adee5",
   "metadata": {},
   "outputs": [
    {
     "name": "stdout",
     "output_type": "stream",
     "text": [
      "Wall time: 3.15 s\n"
     ]
    },
    {
     "data": {
      "text/plain": [
       "0.9639880952380953"
      ]
     },
     "execution_count": 66,
     "metadata": {},
     "output_type": "execute_result"
    }
   ],
   "source": [
    "%%time\n",
    "\n",
    "model_random_forest_1000.score(X_val, y_val)"
   ]
  },
  {
   "cell_type": "code",
   "execution_count": 67,
   "id": "422e168b",
   "metadata": {},
   "outputs": [],
   "source": [
    "y_pred = model_random_forest_100.predict(X_val)"
   ]
  },
  {
   "cell_type": "code",
   "execution_count": 68,
   "id": "9528465c",
   "metadata": {},
   "outputs": [],
   "source": [
    "from sklearn.metrics import accuracy_score, precision_score, recall_score, f1_score"
   ]
  },
  {
   "cell_type": "code",
   "execution_count": 69,
   "id": "290882fc",
   "metadata": {},
   "outputs": [
    {
     "data": {
      "text/plain": [
       "0.9627976190476191"
      ]
     },
     "execution_count": 69,
     "metadata": {},
     "output_type": "execute_result"
    }
   ],
   "source": [
    "precision_score(y_val, y_pred, average='micro')"
   ]
  },
  {
   "cell_type": "code",
   "execution_count": 70,
   "id": "373990d0",
   "metadata": {},
   "outputs": [
    {
     "data": {
      "text/plain": [
       "0.9624432064175196"
      ]
     },
     "execution_count": 70,
     "metadata": {},
     "output_type": "execute_result"
    }
   ],
   "source": [
    "precision_score(y_val, y_pred, average='macro')"
   ]
  },
  {
   "cell_type": "code",
   "execution_count": 71,
   "id": "47d61c84",
   "metadata": {},
   "outputs": [],
   "source": [
    "X_err = X_val[y_pred != y_val]\n",
    "y_err = y_val[y_pred != y_val]"
   ]
  },
  {
   "cell_type": "code",
   "execution_count": 72,
   "id": "28100027",
   "metadata": {},
   "outputs": [],
   "source": [
    "X_y_y_pred_err = X_err.copy(deep=True)"
   ]
  },
  {
   "cell_type": "code",
   "execution_count": 73,
   "id": "51404d44",
   "metadata": {},
   "outputs": [],
   "source": [
    "X_y_y_pred_err['y'] = y_err\n",
    "X_y_y_pred_err['y_pred'] = y_pred[y_pred != y_val]"
   ]
  },
  {
   "cell_type": "code",
   "execution_count": 74,
   "id": "3f849c5e",
   "metadata": {},
   "outputs": [
    {
     "data": {
      "text/html": [
       "<div>\n",
       "<style scoped>\n",
       "    .dataframe tbody tr th:only-of-type {\n",
       "        vertical-align: middle;\n",
       "    }\n",
       "\n",
       "    .dataframe tbody tr th {\n",
       "        vertical-align: top;\n",
       "    }\n",
       "\n",
       "    .dataframe thead th {\n",
       "        text-align: right;\n",
       "    }\n",
       "</style>\n",
       "<table border=\"1\" class=\"dataframe\">\n",
       "  <thead>\n",
       "    <tr style=\"text-align: right;\">\n",
       "      <th></th>\n",
       "      <th>y</th>\n",
       "      <th>y_pred</th>\n",
       "      <th>pixel200</th>\n",
       "    </tr>\n",
       "  </thead>\n",
       "  <tbody>\n",
       "    <tr>\n",
       "      <th>60</th>\n",
       "      <td>9</td>\n",
       "      <td>3</td>\n",
       "      <td>12</td>\n",
       "    </tr>\n",
       "    <tr>\n",
       "      <th>22</th>\n",
       "      <td>3</td>\n",
       "      <td>5</td>\n",
       "      <td>12</td>\n",
       "    </tr>\n",
       "    <tr>\n",
       "      <th>35</th>\n",
       "      <td>5</td>\n",
       "      <td>3</td>\n",
       "      <td>11</td>\n",
       "    </tr>\n",
       "    <tr>\n",
       "      <th>61</th>\n",
       "      <td>9</td>\n",
       "      <td>4</td>\n",
       "      <td>10</td>\n",
       "    </tr>\n",
       "    <tr>\n",
       "      <th>25</th>\n",
       "      <td>3</td>\n",
       "      <td>8</td>\n",
       "      <td>10</td>\n",
       "    </tr>\n",
       "    <tr>\n",
       "      <th>21</th>\n",
       "      <td>3</td>\n",
       "      <td>2</td>\n",
       "      <td>10</td>\n",
       "    </tr>\n",
       "    <tr>\n",
       "      <th>32</th>\n",
       "      <td>4</td>\n",
       "      <td>9</td>\n",
       "      <td>9</td>\n",
       "    </tr>\n",
       "    <tr>\n",
       "      <th>14</th>\n",
       "      <td>2</td>\n",
       "      <td>3</td>\n",
       "      <td>9</td>\n",
       "    </tr>\n",
       "    <tr>\n",
       "      <th>15</th>\n",
       "      <td>2</td>\n",
       "      <td>4</td>\n",
       "      <td>9</td>\n",
       "    </tr>\n",
       "    <tr>\n",
       "      <th>50</th>\n",
       "      <td>7</td>\n",
       "      <td>9</td>\n",
       "      <td>8</td>\n",
       "    </tr>\n",
       "    <tr>\n",
       "      <th>63</th>\n",
       "      <td>9</td>\n",
       "      <td>7</td>\n",
       "      <td>7</td>\n",
       "    </tr>\n",
       "    <tr>\n",
       "      <th>47</th>\n",
       "      <td>7</td>\n",
       "      <td>2</td>\n",
       "      <td>7</td>\n",
       "    </tr>\n",
       "    <tr>\n",
       "      <th>24</th>\n",
       "      <td>3</td>\n",
       "      <td>7</td>\n",
       "      <td>7</td>\n",
       "    </tr>\n",
       "    <tr>\n",
       "      <th>64</th>\n",
       "      <td>9</td>\n",
       "      <td>8</td>\n",
       "      <td>7</td>\n",
       "    </tr>\n",
       "    <tr>\n",
       "      <th>5</th>\n",
       "      <td>1</td>\n",
       "      <td>2</td>\n",
       "      <td>6</td>\n",
       "    </tr>\n",
       "  </tbody>\n",
       "</table>\n",
       "</div>"
      ],
      "text/plain": [
       "    y  y_pred  pixel200\n",
       "60  9       3        12\n",
       "22  3       5        12\n",
       "35  5       3        11\n",
       "61  9       4        10\n",
       "25  3       8        10\n",
       "21  3       2        10\n",
       "32  4       9         9\n",
       "14  2       3         9\n",
       "15  2       4         9\n",
       "50  7       9         8\n",
       "63  9       7         7\n",
       "47  7       2         7\n",
       "24  3       7         7\n",
       "64  9       8         7\n",
       "5   1       2         6"
      ]
     },
     "execution_count": 74,
     "metadata": {},
     "output_type": "execute_result"
    }
   ],
   "source": [
    "## ошибочно определенния цифр и их количество \n",
    "X_y_y_pred_err \\\n",
    "    .groupby(['y', 'y_pred'], as_index=False) \\\n",
    "    .agg({'pixel200': 'count'}) \\\n",
    "    .sort_values('pixel200', ascending=False) \\\n",
    "    .head(15)"
   ]
  },
  {
   "cell_type": "code",
   "execution_count": 83,
   "id": "a7be2b63",
   "metadata": {},
   "outputs": [
    {
     "data": {
      "image/png": "[encoded data removed]",
      "text/plain": [
       "<Figure size 864x720 with 12 Axes>"
      ]
     },
     "metadata": {},
     "output_type": "display_data"
    }
   ],
   "source": [
    "fig, axs = plt.subplots(1, 12, figsize=(12,10),\n",
    "                       sharex=True, sharey=True)\n",
    "\n",
    "df = X_y_y_pred_err[(X_y_y_pred_err['y'] == 3) & (X_y_y_pred_err['y_pred'] == 5)] \\\n",
    "    .drop(columns=['y_pred', 'y'])\n",
    "    \n",
    "image_n = 0\n",
    "for ind, image_row in df.iterrows():\n",
    "    inds_of_pixels = [int(x[5:]) for x in df.columns]\n",
    "    image = np.array([(image_row['pixel' + str(i)] if i in inds_of_pixels else 0) for i in range(784)])\n",
    "    \n",
    "    print_image(image, ax=axs[image_n])\n",
    "    image_n += 1"
   ]
  },
  {
   "cell_type": "code",
   "execution_count": 84,
   "id": "5fbdceea",
   "metadata": {},
   "outputs": [
    {
     "data": {
      "image/png": "[encoded data removed]",
      "text/plain": [
       "<Figure size 864x720 with 9 Axes>"
      ]
     },
     "metadata": {},
     "output_type": "display_data"
    }
   ],
   "source": [
    "fig, axs = plt.subplots(1, 9, figsize=(12,10),\n",
    "                       sharex=True, sharey=True)\n",
    "\n",
    "df = X_y_y_pred_err[(X_y_y_pred_err['y'] == 4) & (X_y_y_pred_err['y_pred'] == 9)] \\\n",
    "    .drop(columns=['y_pred', 'y'])\n",
    "    \n",
    "image_n = 0\n",
    "for ind, image_row in df.iterrows():\n",
    "    inds_of_pixels = [int(x[5:]) for x in df.columns]\n",
    "    image = np.array([(image_row['pixel' + str(i)] if i in inds_of_pixels else 0) for i in range(784)])\n",
    "    \n",
    "    print_image(image, ax=axs[image_n])\n",
    "    image_n += 1"
   ]
  },
  {
   "cell_type": "code",
   "execution_count": 85,
   "id": "2e75c044",
   "metadata": {
    "scrolled": true
   },
   "outputs": [
    {
     "data": {
      "image/png": "[encoded data removed]",
      "text/plain": [
       "<Figure size 864x720 with 10 Axes>"
      ]
     },
     "metadata": {},
     "output_type": "display_data"
    }
   ],
   "source": [
    "###\n",
    "fig, axs = plt.subplots(1, 10, figsize=(12,10),\n",
    "                       sharex=True, sharey=True)\n",
    "\n",
    "df = X_y_y_pred_err[(X_y_y_pred_err['y'] == 3) & (X_y_y_pred_err['y_pred'] == 2)] \\\n",
    "    .drop(columns=['y_pred', 'y'])\n",
    "    \n",
    "image_n = 0\n",
    "for ind, image_row in df.iterrows():\n",
    "    inds_of_pixels = [int(x[5:]) for x in df.columns]\n",
    "    image = np.array([(image_row['pixel' + str(i)] if i in inds_of_pixels else 0) for i in range(784)])\n",
    "    \n",
    "    print_image(image, ax=axs[image_n])\n",
    "    image_n += 1"
   ]
  },
  {
   "cell_type": "code",
   "execution_count": 86,
   "id": "6fc791b3",
   "metadata": {},
   "outputs": [
    {
     "data": {
      "image/png": "[encoded data removed]",
      "text/plain": [
       "<Figure size 864x720 with 9 Axes>"
      ]
     },
     "metadata": {},
     "output_type": "display_data"
    }
   ],
   "source": [
    "###\n",
    "fig, axs = plt.subplots(1, 9, figsize=(12,10),\n",
    "                       sharex=True, sharey=True)\n",
    "\n",
    "df = X_y_y_pred_err[(X_y_y_pred_err['y'] == 2) & (X_y_y_pred_err['y_pred'] == 4)] \\\n",
    "    .drop(columns=['y_pred', 'y'])\n",
    "    \n",
    "image_n = 0\n",
    "for ind, image_row in df.iterrows():\n",
    "    inds_of_pixels = [int(x[5:]) for x in df.columns]\n",
    "    image = np.array([(image_row['pixel' + str(i)] if i in inds_of_pixels else 0) for i in range(784)])\n",
    "    \n",
    "    print_image(image, ax=axs[image_n])\n",
    "    image_n += 1"
   ]
  },
  {
   "cell_type": "code",
   "execution_count": 87,
   "id": "2f2e03b8",
   "metadata": {},
   "outputs": [
    {
     "data": {
      "image/png": "[encoded data removed]",
      "text/plain": [
       "<Figure size 864x720 with 7 Axes>"
      ]
     },
     "metadata": {},
     "output_type": "display_data"
    }
   ],
   "source": [
    "###\n",
    "fig, axs = plt.subplots(1, 7, figsize=(12,10),\n",
    "                       sharex=True, sharey=True)\n",
    "\n",
    "df = X_y_y_pred_err[(X_y_y_pred_err['y'] == 3) & (X_y_y_pred_err['y_pred'] == 7)] \\\n",
    "    .drop(columns=['y_pred', 'y'])\n",
    "    \n",
    "image_n = 0\n",
    "for ind, image_row in df.iterrows():\n",
    "    inds_of_pixels = [int(x[5:]) for x in df.columns]\n",
    "    image = np.array([(image_row['pixel' + str(i)] if i in inds_of_pixels else 0) for i in range(784)])\n",
    "    \n",
    "    print_image(image, ax=axs[image_n])\n",
    "    image_n += 1"
   ]
  },
  {
   "cell_type": "markdown",
   "id": "3a9354b8",
   "metadata": {},
   "source": [
    "# Оценка качества модели"
   ]
  },
  {
   "cell_type": "code",
   "execution_count": 202,
   "id": "777e689a",
   "metadata": {},
   "outputs": [],
   "source": [
    "## тестовую выборку надо предобработать так же как и обучающую\n",
    "X_test = X_test[selector.get_feature_names_out()]"
   ]
  },
  {
   "cell_type": "code",
   "execution_count": 88,
   "id": "cedbd70a",
   "metadata": {},
   "outputs": [
    {
     "name": "stdout",
     "output_type": "stream",
     "text": [
      "Wall time: 418 ms\n"
     ]
    },
    {
     "data": {
      "text/plain": [
       "0.9620238095238095"
      ]
     },
     "execution_count": 88,
     "metadata": {},
     "output_type": "execute_result"
    }
   ],
   "source": [
    "%%time\n",
    "\n",
    "model_random_forest_100.score(X_test, y_test)"
   ]
  },
  {
   "cell_type": "code",
   "execution_count": 204,
   "id": "f924637b",
   "metadata": {},
   "outputs": [
    {
     "name": "stdout",
     "output_type": "stream",
     "text": [
      "CPU times: user 2min 10s, sys: 7.67 s, total: 2min 18s\n",
      "Wall time: 2min 19s\n"
     ]
    }
   ],
   "source": [
    "## бутсрапим. Считаем возможные значения accuracy, precision и recall\n",
    "%%time\n",
    "\n",
    "boot_accuracies = []\n",
    "boot_precisions = []\n",
    "boot_recalls = []\n",
    "\n",
    "X_y_test = X_test.copy(deep=True)\n",
    "X_y_test['y'] = y_test\n",
    "\n",
    "for i in range(1000):\n",
    "    X_y_test_boot = X_y_test.sample(len(X_y_test), replace=True)\n",
    "    X_test_boot = X_y_test_boot.drop(columns='y')\n",
    "    y_test_boot = X_y_test_boot['y']\n",
    "    \n",
    "    y_pred = model_random_forest_100.predict(X_test_boot)\n",
    "    \n",
    "    boot_accuracies.append(accuracy_score(y_test_boot, y_pred))\n",
    "    boot_precisions.append(precision_score(y_test_boot, y_pred, average='micro'))\n",
    "    boot_recalls.append(recall_score(y_test_boot, y_pred, average='macro'))"
   ]
  },
  {
   "cell_type": "code",
   "execution_count": 205,
   "id": "c71a5ea0",
   "metadata": {},
   "outputs": [
    {
     "data": {
      "text/plain": [
       "<AxesSubplot: ylabel='Count'>"
      ]
     },
     "execution_count": 205,
     "metadata": {},
     "output_type": "execute_result"
    },
    {
     "data": {
      "image/png": "[encoded data removed]",
      "text/plain": [
       "<Figure size 1170x827 with 1 Axes>"
      ]
     },
     "metadata": {},
     "output_type": "display_data"
    }
   ],
   "source": [
    "sns.histplot(boot_accuracies)"
   ]
  },
  {
   "cell_type": "code",
   "execution_count": 206,
   "id": "cf03d68c",
   "metadata": {},
   "outputs": [
    {
     "name": "stdout",
     "output_type": "stream",
     "text": [
      "Доверительный интервал для accuracy: (0.95, 0.959)\n"
     ]
    }
   ],
   "source": [
    "## отбрасывая по 2,5% крайних значений получаем доверительный интервал для метрик\n",
    "boot_accuracies_sorted = list(sorted(boot_accuracies))\n",
    "boot_accuracies_sorted = boot_accuracies_sorted[25:975]\n",
    "\n",
    "print('Доверительный интервал для accuracy:', \n",
    "      '(' + str(round(boot_accuracies_sorted[0], 3)) + ', ' + str(round(boot_accuracies_sorted[-1], 3)) + ')')"
   ]
  },
  {
   "cell_type": "code",
   "execution_count": 207,
   "id": "8e7251ac",
   "metadata": {},
   "outputs": [
    {
     "name": "stdout",
     "output_type": "stream",
     "text": [
      "Доверительный интервал для precision: (0.95, 0.959)\n"
     ]
    }
   ],
   "source": [
    "boot_precisions_sorted = list(sorted(boot_precisions))\n",
    "boot_precisions_sorted = boot_precisions_sorted[25:975]\n",
    "\n",
    "print('Доверительный интервал для precision:', \n",
    "      '(' + str(round(boot_precisions_sorted[0], 3)) + ', ' + str(round(boot_precisions_sorted[-1], 3)) + ')')"
   ]
  },
  {
   "cell_type": "code",
   "execution_count": 208,
   "id": "95b748a6",
   "metadata": {},
   "outputs": [
    {
     "name": "stdout",
     "output_type": "stream",
     "text": [
      "Доверительный интервал для recall: (0.95, 0.959)\n"
     ]
    }
   ],
   "source": [
    "boot_recalls_sorted = list(sorted(boot_recalls))\n",
    "boot_recalls_sorted = boot_recalls_sorted[25:975]\n",
    "\n",
    "print('Доверительный интервал для recall:', \n",
    "      '(' + str(round(boot_recalls_sorted[0], 3)) + ', ' + str(round(boot_recalls_sorted[-1], 3)) + ')')"
   ]
  },
  {
   "cell_type": "code",
   "execution_count": null,
   "id": "2906b707",
   "metadata": {},
   "outputs": [],
   "source": [
    "### а почему все доверительные интервалы одинаковые!?"
   ]
  },
  {
   "cell_type": "markdown",
   "id": "f89c8634",
   "metadata": {},
   "source": [
    "# Интерпретация результатов"
   ]
  },
  {
   "cell_type": "code",
   "execution_count": 89,
   "id": "233b91f8",
   "metadata": {},
   "outputs": [
    {
     "data": {
      "text/plain": [
       "array([1.51782296e-03, 1.90282322e-02, 6.99237596e-05, 1.43494754e-05,\n",
       "       1.24738348e-03, 2.87534081e-04, 5.81879943e-04, 4.64102721e-03,\n",
       "       7.07811536e-05, 1.90761852e-04, 3.78887996e-04, 8.55425413e-04,\n",
       "       1.67662292e-04, 5.12414871e-04, 4.14030917e-04, 6.37957250e-04,\n",
       "       2.81078970e-04, 1.90319358e-04, 3.90412353e-04, 6.34397861e-05,\n",
       "       1.77105629e-05, 1.88660565e-03, 2.55598072e-03, 6.61216431e-04,\n",
       "       9.52987661e-04, 3.23512519e-04, 4.83269433e-02, 1.40749734e-04,\n",
       "       5.74284358e-04, 2.20905703e-03, 9.58040622e-04, 1.33241922e-04,\n",
       "       1.44385137e-04, 7.47978373e-04, 5.89157199e-04, 4.27066551e-04,\n",
       "       7.98073752e-04, 1.99485228e-03, 3.00533708e-03, 2.17339540e-03,\n",
       "       1.19321531e-02, 1.96567436e-03, 1.04706420e-03, 1.37360699e-03,\n",
       "       4.62103810e-04, 2.17225790e-03, 3.77688138e-03, 4.90903107e-05,\n",
       "       3.25172227e-04, 7.41222933e-04, 7.20878899e-04, 1.57117614e-03,\n",
       "       7.89436344e-03, 1.57790284e-04, 1.46166128e-03, 9.91295713e-04,\n",
       "       2.31404694e-03, 8.45320394e-04, 3.80638717e-04, 7.86511530e-04,\n",
       "       1.44700494e-03, 3.31205117e-04, 1.35393137e-04, 8.22680343e-05,\n",
       "       4.45867509e-03, 2.86743904e-04, 2.35203372e-04, 2.52464455e-04,\n",
       "       8.91041538e-04, 1.07702639e-03, 6.62181893e-04, 1.27093194e-03,\n",
       "       5.08990665e-03, 4.32364405e-02, 1.27834673e-03, 1.44972654e-03,\n",
       "       1.65996780e-03, 2.44177855e-03, 9.69278077e-04, 1.24116389e-02,\n",
       "       6.38603587e-05, 1.77952000e-05, 1.74404951e-03, 1.75532757e-05,\n",
       "       1.52935199e-05, 8.28039433e-04, 1.15250950e-04, 7.58277565e-04,\n",
       "       9.55579388e-04, 1.56645114e-03, 4.43203931e-03, 3.70462369e-04,\n",
       "       3.62862451e-03, 2.93517839e-02, 4.06237062e-04, 1.48695920e-03,\n",
       "       1.64195788e-04, 1.11528877e-03, 6.55254544e-04, 2.16144255e-03,\n",
       "       3.95468797e-05, 1.53406532e-04, 1.50245850e-03, 9.26287319e-05,\n",
       "       1.19740596e-02, 2.51233378e-03, 4.73108977e-03, 7.09758761e-04,\n",
       "       3.87239304e-03, 1.16031879e-03, 2.30592206e-02, 1.64992406e-03,\n",
       "       4.51678810e-04, 8.60629073e-04, 3.30643914e-04, 4.95516099e-04,\n",
       "       9.23383429e-03, 2.56219381e-03, 3.49238447e-03, 1.36589384e-03,\n",
       "       5.40881209e-03, 1.20850115e-02, 6.47623684e-03, 1.79224095e-03,\n",
       "       1.78160838e-03, 1.02463580e-03, 1.01433254e-02, 2.17496441e-03,\n",
       "       2.90054233e-04, 8.65748303e-05, 4.30113341e-04, 1.40479871e-03,\n",
       "       2.02519317e-04, 2.70463828e-03, 1.00071390e-02, 8.25831629e-03,\n",
       "       1.40937664e-03, 2.04686508e-03, 1.42792076e-02, 3.94340203e-03,\n",
       "       7.92346979e-04, 7.40188424e-04, 5.41654990e-03, 3.04270715e-04,\n",
       "       3.92722486e-05, 9.35618048e-04, 4.00596072e-04, 1.46876985e-05,\n",
       "       2.79122663e-04, 1.93650138e-03, 1.22978363e-04, 8.71534860e-03,\n",
       "       5.02648607e-03, 1.93161915e-03, 3.17444722e-02, 1.71796581e-04,\n",
       "       2.19397908e-02, 1.10100624e-03, 2.10277348e-03, 7.08577262e-04,\n",
       "       1.88217725e-03, 1.50528355e-03, 2.41199101e-04, 5.74301619e-04,\n",
       "       2.87312069e-05, 4.06832063e-04, 9.52081725e-04, 1.71445733e-03,\n",
       "       2.00606343e-03, 5.87349572e-04, 1.67209598e-03, 5.33392055e-04,\n",
       "       4.38714414e-04, 9.98177300e-03, 2.25112485e-03, 4.30494058e-04,\n",
       "       4.94918569e-02, 3.07081172e-04, 8.44520509e-04, 4.67479513e-05,\n",
       "       9.06282659e-06, 2.98661331e-04, 4.22931907e-05, 1.76534067e-05,\n",
       "       5.88825847e-04, 1.85508634e-03, 2.49404678e-03, 2.03574096e-03,\n",
       "       1.82770965e-03, 3.76083053e-02, 3.83837361e-05, 3.22201978e-03,\n",
       "       6.31070622e-02, 2.61702139e-04, 1.37488828e-03, 7.81131545e-04,\n",
       "       1.47939451e-03, 2.03680599e-03, 8.58461773e-04, 6.53849896e-04,\n",
       "       7.17927494e-04, 1.68223234e-02, 4.40498249e-04, 6.44866478e-03,\n",
       "       3.96086159e-04, 3.52715413e-04, 2.01603243e-03, 9.96788457e-04,\n",
       "       2.88772727e-03, 5.73494340e-04, 8.77879229e-04, 8.48878017e-04,\n",
       "       1.66011509e-03, 1.48756253e-03, 9.57952934e-04, 2.94726068e-05,\n",
       "       1.62760967e-05, 2.71308044e-04, 5.47852631e-04, 1.96716195e-03,\n",
       "       2.24354601e-04, 2.27691291e-02, 2.47782014e-03, 4.94250337e-04,\n",
       "       3.35540886e-02, 6.79128371e-03, 5.12856904e-03, 4.71002500e-03,\n",
       "       4.52183377e-04, 1.89560703e-03, 5.23091872e-04, 2.15204243e-04,\n",
       "       4.57904375e-04, 2.39696956e-03, 3.84448968e-04, 1.10420825e-03,\n",
       "       1.30648098e-03, 5.33104830e-04, 1.00121976e-03, 5.72585950e-03,\n",
       "       6.19789034e-03, 3.25828475e-03, 6.22394018e-04, 7.95471616e-04,\n",
       "       3.54247975e-04, 2.40358762e-04, 4.21421436e-04, 3.86803286e-04,\n",
       "       3.93117072e-04, 1.59180416e-04, 1.45458909e-03, 4.92346940e-04,\n",
       "       2.34075521e-04, 1.91083218e-03, 6.64102447e-05, 2.77833751e-03,\n",
       "       5.27425527e-05, 7.65845819e-03, 5.24765153e-03, 1.59465213e-03,\n",
       "       5.32163258e-04, 5.95029491e-04, 2.31336095e-04, 7.07146541e-04,\n",
       "       1.92157841e-02, 1.57440011e-03, 7.07107236e-04, 9.07093919e-04,\n",
       "       4.53999552e-04, 7.20006056e-04, 5.37919953e-04, 3.66406101e-04,\n",
       "       1.43174103e-02, 3.67162163e-03, 4.55449055e-04, 1.03114961e-03,\n",
       "       2.46504908e-04, 8.35961957e-04, 5.23267767e-04, 6.06541112e-04,\n",
       "       4.31048906e-04, 7.11650288e-04, 4.02634335e-04, 2.50576366e-04,\n",
       "       1.62375643e-05, 1.55922511e-04, 1.72008750e-05, 6.61170026e-04,\n",
       "       1.56455252e-04, 2.51459105e-03, 3.82861359e-03, 2.03472743e-04,\n",
       "       3.48162059e-04, 1.12479731e-03, 4.49375445e-04, 1.11406454e-04,\n",
       "       6.64525554e-04, 7.05072677e-04, 2.35921553e-03, 1.02652115e-04,\n",
       "       4.92128435e-04, 8.93401747e-04, 7.74137802e-04, 8.15654393e-05,\n",
       "       4.62358544e-04, 1.35942399e-04, 7.41528234e-04, 5.66454291e-05,\n",
       "       2.69248082e-04, 1.90958404e-04, 2.36709799e-04, 1.58488051e-04,\n",
       "       1.73496727e-05, 3.71987837e-04, 1.53826037e-03, 9.58585935e-04,\n",
       "       3.50161783e-04, 4.88861856e-04, 1.45382843e-04, 4.43827312e-02,\n",
       "       2.53500207e-04, 3.06510130e-03, 1.20837688e-05, 6.83944758e-04,\n",
       "       1.58236371e-04, 1.42233262e-04, 2.92029017e-04, 3.20173217e-04,\n",
       "       4.20057481e-04, 4.89245869e-04, 7.04971934e-04, 3.42685978e-04,\n",
       "       2.61884527e-04, 3.87341188e-04, 1.79324159e-05, 1.29468951e-04,\n",
       "       5.27542322e-05, 1.77231034e-05, 6.38056016e-04, 1.27063414e-05,\n",
       "       1.02712035e-04, 1.58546009e-04, 9.16352466e-05, 4.53141329e-05,\n",
       "       6.68376030e-05, 4.88325048e-05, 4.40743517e-05, 1.76697473e-05,\n",
       "       2.79354924e-04])"
      ]
     },
     "execution_count": 89,
     "metadata": {},
     "output_type": "execute_result"
    }
   ],
   "source": [
    "## определим важные для классификации пиксели. Те, которые исползовались хоть в каком-то узле\n",
    "model_decision_tree_5.feature_importances_[model_decision_tree_5.feature_importances_ > 0]"
   ]
  },
  {
   "cell_type": "code",
   "execution_count": 90,
   "id": "06a4b928",
   "metadata": {},
   "outputs": [
    {
     "ename": "AttributeError",
     "evalue": "'DecisionTreeClassifier' object has no attribute 'feature_names_in_'",
     "output_type": "error",
     "traceback": [
      "\u001b[1;31m---------------------------------------------------------------------------\u001b[0m",
      "\u001b[1;31mAttributeError\u001b[0m                            Traceback (most recent call last)",
      "\u001b[1;32m<ipython-input-90-a25c09b4f122>\u001b[0m in \u001b[0;36m<module>\u001b[1;34m\u001b[0m\n\u001b[1;32m----> 1\u001b[1;33m \u001b[0mmodel_decision_tree_5\u001b[0m\u001b[1;33m.\u001b[0m\u001b[0mfeature_names_in_\u001b[0m\u001b[1;33m[\u001b[0m\u001b[0mmodel_decision_tree_5\u001b[0m\u001b[1;33m.\u001b[0m\u001b[0mfeature_importances_\u001b[0m \u001b[1;33m>\u001b[0m \u001b[1;36m0\u001b[0m\u001b[1;33m]\u001b[0m\u001b[1;33m\u001b[0m\u001b[1;33m\u001b[0m\u001b[0m\n\u001b[0m",
      "\u001b[1;31mAttributeError\u001b[0m: 'DecisionTreeClassifier' object has no attribute 'feature_names_in_'"
     ]
    }
   ],
   "source": [
    "model_decision_tree_5.feature_names_in_[model_decision_tree_5.feature_importances_ > 0]"
   ]
  },
  {
   "cell_type": "code",
   "execution_count": 91,
   "id": "7dfd3ee8",
   "metadata": {},
   "outputs": [
    {
     "ename": "AttributeError",
     "evalue": "'DecisionTreeClassifier' object has no attribute 'feature_names_in_'",
     "output_type": "error",
     "traceback": [
      "\u001b[1;31m---------------------------------------------------------------------------\u001b[0m",
      "\u001b[1;31mAttributeError\u001b[0m                            Traceback (most recent call last)",
      "\u001b[1;32m<ipython-input-91-0988b4e776a9>\u001b[0m in \u001b[0;36m<module>\u001b[1;34m\u001b[0m\n\u001b[1;32m----> 1\u001b[1;33m \u001b[0mlen\u001b[0m\u001b[1;33m(\u001b[0m\u001b[0mmodel_decision_tree_5\u001b[0m\u001b[1;33m.\u001b[0m\u001b[0mfeature_names_in_\u001b[0m\u001b[1;33m[\u001b[0m\u001b[0mmodel_decision_tree_5\u001b[0m\u001b[1;33m.\u001b[0m\u001b[0mfeature_importances_\u001b[0m \u001b[1;33m>\u001b[0m \u001b[1;36m0\u001b[0m\u001b[1;33m]\u001b[0m\u001b[1;33m)\u001b[0m\u001b[1;33m\u001b[0m\u001b[1;33m\u001b[0m\u001b[0m\n\u001b[0m",
      "\u001b[1;31mAttributeError\u001b[0m: 'DecisionTreeClassifier' object has no attribute 'feature_names_in_'"
     ]
    }
   ],
   "source": [
    "len(model_decision_tree_5.feature_names_in_[model_decision_tree_5.feature_importances_ > 0])"
   ]
  },
  {
   "cell_type": "code",
   "execution_count": 234,
   "id": "dd362733",
   "metadata": {},
   "outputs": [
    {
     "data": {
      "text/plain": [
       "<AxesSubplot: ylabel='Count'>"
      ]
     },
     "execution_count": 234,
     "metadata": {},
     "output_type": "execute_result"
    },
    {
     "data": {
      "image/png": "[encoded data removed]",
      "text/plain": [
       "<Figure size 1170x827 with 1 Axes>"
      ]
     },
     "metadata": {},
     "output_type": "display_data"
    }
   ],
   "source": [
    "sns.histplot(model_decision_tree_5.feature_importances_[model_decision_tree_5.feature_importances_ > 0])"
   ]
  },
  {
   "cell_type": "code",
   "execution_count": 235,
   "id": "4828e668",
   "metadata": {},
   "outputs": [
    {
     "data": {
      "text/plain": [
       "array(['pixel96', 'pixel155', 'pixel239', 'pixel245', 'pixel270',\n",
       "       'pixel290', 'pixel296', 'pixel322', 'pixel349', 'pixel352',\n",
       "       'pixel375', 'pixel377', 'pixel409', 'pixel431', 'pixel434',\n",
       "       'pixel455', 'pixel485', 'pixel488', 'pixel550', 'pixel569',\n",
       "       'pixel657'], dtype=object)"
      ]
     },
     "execution_count": 235,
     "metadata": {},
     "output_type": "execute_result"
    }
   ],
   "source": [
    "## список факторов, значимость которых больше 0,01\n",
    "model_decision_tree_5.feature_names_in_[model_decision_tree_5.feature_importances_ > 0.01]"
   ]
  },
  {
   "cell_type": "code",
   "execution_count": 237,
   "id": "285ab8f7",
   "metadata": {},
   "outputs": [
    {
     "data": {
      "text/plain": [
       "21"
      ]
     },
     "execution_count": 237,
     "metadata": {},
     "output_type": "execute_result"
    }
   ],
   "source": [
    "len(model_decision_tree_5.feature_names_in_[model_decision_tree_5.feature_importances_ > 0.01])"
   ]
  },
  {
   "cell_type": "code",
   "execution_count": 238,
   "id": "002c46f8",
   "metadata": {},
   "outputs": [],
   "source": [
    "## получаем индексы наших пикселей. У них же названия типа pixel290\n",
    "inds_of_important_pixels = [int(x[5:]) for x in model_decision_tree_5.feature_names_in_[model_decision_tree_5.feature_importances_ > 0.01]]"
   ]
  },
  {
   "cell_type": "code",
   "execution_count": 239,
   "id": "212156b4",
   "metadata": {},
   "outputs": [],
   "source": [
    "vect = np.array([(255 if i in inds_of_important_pixels else 0) for i in range(784)])"
   ]
  },
  {
   "cell_type": "code",
   "execution_count": 240,
   "id": "70400725",
   "metadata": {},
   "outputs": [
    {
     "data": {
      "image/png": "[encoded data removed]",
      "text/plain": [
       "<Figure size 1170x827 with 1 Axes>"
      ]
     },
     "metadata": {},
     "output_type": "display_data"
    }
   ],
   "source": [
    "print_image(vect)"
   ]
  },
  {
   "cell_type": "code",
   "execution_count": null,
   "id": "e7c4fa0c",
   "metadata": {},
   "outputs": [],
   "source": []
  }
 ],
 "metadata": {
  "kernelspec": {
   "display_name": "Python 3",
   "language": "python",
   "name": "python3"
  },
  "language_info": {
   "codemirror_mode": {
    "name": "ipython",
    "version": 3
   },
   "file_extension": ".py",
   "mimetype": "text/x-python",
   "name": "python",
   "nbconvert_exporter": "python",
   "pygments_lexer": "ipython3",
   "version": "3.8.8"
  }
 },
 "nbformat": 4,
 "nbformat_minor": 5
}
