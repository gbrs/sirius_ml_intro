{
 "cells": [
  {
   "cell_type": "code",
   "execution_count": 1,
   "metadata": {},
   "outputs": [],
   "source": [
    "## 1\n",
    "from math import floor"
   ]
  },
  {
   "cell_type": "code",
   "execution_count": 2,
   "metadata": {},
   "outputs": [],
   "source": [
    "## 2\n",
    "def read_lines(file_path):\n",
    "    numbers = []\n",
    "    \n",
    "    with open(file_path, 'r') as f:\n",
    "        for line in f:\n",
    "            numbers.append(float(line.strip('\\n')))\n",
    "    \n",
    "    return numbers\n",
    "\n",
    "def calc_mean(numbers):\n",
    "    return sum(numbers) / len(numbers)\n",
    "\n",
    "def calc_int_mean(numbers):\n",
    "    return floor(sum(numbers) / len(numbers))"
   ]
  },
  {
   "cell_type": "code",
   "execution_count": 4,
   "metadata": {},
   "outputs": [],
   "source": [
    "## 3\n",
    "numbers = read_lines('numbers.txt')"
   ]
  },
  {
   "cell_type": "code",
   "execution_count": 5,
   "metadata": {},
   "outputs": [
    {
     "name": "stdout",
     "output_type": "stream",
     "text": [
      "Среднее равно: 2.933333333333333\n",
      "Среднее, округлённое вниз, равно: 2\n"
     ]
    }
   ],
   "source": [
    "## 4\n",
    "print('Среднее равно:', calc_mean(numbers))\n",
    "print('Среднее, округлённое вниз, равно:', calc_int_mean(numbers))"
   ]
  },
  {
   "cell_type": "code",
   "execution_count": 6,
   "metadata": {},
   "outputs": [
    {
     "data": {
      "text/plain": [
       "[2.0, 3.0, 1.0, 5.0, 3.0, 4.0, 3.0, 2.0, 1.0, 3.0, 4.0, 2.0, 5.0, 5.0, 1.0]"
      ]
     },
     "execution_count": 6,
     "metadata": {},
     "output_type": "execute_result"
    }
   ],
   "source": [
    "## 5\n",
    "numbers"
   ]
  },
  {
   "cell_type": "code",
   "execution_count": 7,
   "metadata": {},
   "outputs": [],
   "source": [
    "## 6\n",
    "def modify_list(numbers, add):\n",
    "    res = []\n",
    "    \n",
    "    for x in numbers:\n",
    "        res.append(x + add)\n",
    "        \n",
    "    return res"
   ]
  },
  {
   "cell_type": "code",
   "execution_count": 11,
   "metadata": {},
   "outputs": [
    {
     "data": {
      "text/plain": [
       "[10.0,\n",
       " 11.0,\n",
       " 9.0,\n",
       " 13.0,\n",
       " 11.0,\n",
       " 12.0,\n",
       " 11.0,\n",
       " 10.0,\n",
       " 9.0,\n",
       " 11.0,\n",
       " 12.0,\n",
       " 10.0,\n",
       " 13.0,\n",
       " 13.0,\n",
       " 9.0]"
      ]
     },
     "execution_count": 11,
     "metadata": {},
     "output_type": "execute_result"
    }
   ],
   "source": [
    "## 7\n",
    "modify_list(numbers, 4)"
   ]
  },
  {
   "cell_type": "code",
   "execution_count": 9,
   "metadata": {},
   "outputs": [],
   "source": [
    "## 8\n",
    "numbers = modify_list(numbers, 4)"
   ]
  },
  {
   "cell_type": "code",
   "execution_count": 10,
   "metadata": {},
   "outputs": [
    {
     "name": "stdout",
     "output_type": "stream",
     "text": [
      "Среднее равно: 6.933333333333334\n",
      "Среднее, округлённое вниз, равно: 6\n"
     ]
    }
   ],
   "source": [
    "## 9\n",
    "print('Среднее равно:', calc_mean(numbers))\n",
    "print('Среднее, округлённое вниз, равно:', calc_int_mean(numbers))"
   ]
  },
  {
   "cell_type": "code",
   "execution_count": null,
   "metadata": {},
   "outputs": [],
   "source": []
  }
 ],
 "metadata": {
  "kernelspec": {
   "display_name": "Python 3",
   "language": "python",
   "name": "python3"
  },
  "language_info": {
   "codemirror_mode": {
    "name": "ipython",
    "version": 3
   },
   "file_extension": ".py",
   "mimetype": "text/x-python",
   "name": "python",
   "nbconvert_exporter": "python",
   "pygments_lexer": "ipython3",
   "version": "3.7.6"
  }
 },
 "nbformat": 4,
 "nbformat_minor": 5
}
