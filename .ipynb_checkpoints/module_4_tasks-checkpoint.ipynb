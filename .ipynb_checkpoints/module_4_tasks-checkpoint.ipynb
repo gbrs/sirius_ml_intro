{
 "cells": [
  {
   "cell_type": "code",
   "execution_count": 1,
   "id": "db2b603a",
   "metadata": {},
   "outputs": [],
   "source": [
    "import pandas as pd\n",
    "import seaborn as sns\n",
    "\n",
    "import math"
   ]
  },
  {
   "cell_type": "markdown",
   "id": "b2f585b2",
   "metadata": {},
   "source": [
    "## Работа со словарём "
   ]
  },
  {
   "cell_type": "code",
   "execution_count": 3,
   "id": "17eed15e",
   "metadata": {},
   "outputs": [],
   "source": [
    "def count_numbers_solution(list_of_data):\n",
    "    \"\"\"\n",
    "    Принимает на вход список целочисленных значений и подсчитывает, сколько\n",
    "    раз в списке встретилось каждое из значений.\n",
    "    \n",
    "    Аргументы:\n",
    "        list_of_data: Список целочисленных значений, которые нужно пересчитать.\n",
    "        \n",
    "    Возвращаемое значение:\n",
    "        Словарь, в котором каждому значению из исходного списка сопоставлено\n",
    "        количество раз, которое это значение встречается в списке.\n",
    "    \"\"\"\n",
    "    \n",
    "    res = {}\n",
    "    \n",
    "    for value in list_of_data:\n",
    "        res[value] = res.setdefault(value, 0) + 1\n",
    "    \n",
    "    return res"
   ]
  },
  {
   "cell_type": "code",
   "execution_count": 4,
   "id": "daaef7b9",
   "metadata": {},
   "outputs": [],
   "source": [
    "def count_numbers_tests():\n",
    "    def compare_dicts(d_calc, d_real):\n",
    "        if len(d_calc) != len(d_real):\n",
    "            raise RuntimeError(\n",
    "                f'Число ключей в словарях различается: должно быть {len(d_real)}, а получилось {len(d_calc)}.')\n",
    "            \n",
    "        for key, value in d_calc.items():\n",
    "            if d_real[key] != value:\n",
    "                raise RuntimeError(f'Значение для ключа {key} получилось неправильное: должно быть {d_real[key]}, а получилось {value}.')\n",
    "        \n",
    "    example_1_list = [1, 2, 3, 2, 3, 1, 2, 2, 2]\n",
    "    example_1_res = {1: 2, 2: 5, 3: 2}\n",
    "    \n",
    "    compare_dicts(count_numbers_solution(example_1_list), example_1_res)\n",
    "    \n",
    "    example_2_list = [8, 2, 10, 5, 7, 0, 1, 9, 5, 9, 1, 1, 2, 10, 5, 3, 6, 2, 2, 9, 5, 7, 10, 2, 6, 8, 7, 7, 7, 10, 5, 2, 8, 9, 2, 8, 8, 2, 6, 4, 6, 3, 0, 3, 6, 3, 4, 1, 2, 8]\n",
    "    example_2_res = {8: 6, 2: 9, 10: 4, 5: 5, 7: 5, 0: 2, 1: 4, 9: 4, 3: 4, 6: 5, 4: 2}\n",
    "    \n",
    "    compare_dicts(count_numbers_solution(example_2_list), example_2_res)\n",
    "    \n",
    "    example_3_list = [5, 2, 3, 2, 5, 1, 4, 7, 5, 5, 5, 5, 8, 2, 5, 3, 5, 6, 1, 3, 6, 6, 6, 3, 6, 2, 4, 5, 1, 4, 6, 6, 1, 3, 3, 4, 4, 3, 1, 7, 5, 3, 6, 4, 4, 3, 2, 7, 1, 4, 2, 3, 7, 8, 7, 7, 7, 5, 9, 3, 3, 4, 2, 2, 3, 6, 8, 5, 4, 4, 4, 7, 1, 11, 6, 5, 6, 5, 6, 4, 4, 5, 4, 8, 3, 4, 3, 1, 4, 5, 5, 4, 4, 6, 4, 6, 3, 4, 7, 8]\n",
    "    example_3_res = {5: 17, 2: 8, 3: 16, 1: 8, 4: 21, 7: 9, 8: 5, 6: 14, 9: 1, 11: 1}\n",
    "    \n",
    "    compare_dicts(count_numbers_solution(example_3_list), example_3_res)\n",
    "    \n",
    "    print('Все тесты прошли успешно!')"
   ]
  },
  {
   "cell_type": "code",
   "execution_count": 5,
   "id": "06f7bdaa",
   "metadata": {},
   "outputs": [
    {
     "name": "stdout",
     "output_type": "stream",
     "text": [
      "Все тесты прошли успешно!\n"
     ]
    }
   ],
   "source": [
    "count_numbers_tests()"
   ]
  },
  {
   "cell_type": "markdown",
   "id": "e159499a",
   "metadata": {},
   "source": [
    "## Кодирование факторов с помощью новых бинарных факторов"
   ]
  },
  {
   "cell_type": "code",
   "execution_count": 27,
   "id": "7a1c254b",
   "metadata": {},
   "outputs": [],
   "source": [
    "def new_columns_solution(column):\n",
    "    \"\"\"\n",
    "    Принимает на вход колонку со значениями категориального фактора\n",
    "    и производит его кодирование, представляя каждую категорию в виде\n",
    "    колонки со значениями 0 и 1.\n",
    "    \n",
    "    Аргументы:\n",
    "        column: Колонка со значениями категориального фактора.\n",
    "        \n",
    "    Возвращаемое значение:\n",
    "        Словарь, в котором каждой категории исходной колонки сопоставлен список из 0 и 1.\n",
    "        Если на позиции i в этом списке находится 1, то это значит, что в исходной колонке\n",
    "        в i-ой строке было записано название соответствующей категории.\n",
    "        Если на позиции i в списке находится 0, то в i-ой строке исходной колонки была\n",
    "        записана другая категория.\n",
    "    \"\"\"\n",
    "    \n",
    "    dct = {}\n",
    "    for key in set(column):\n",
    "        dct[key] = [1 if char == key else 0 for char in column]\n",
    "    \n",
    "    return dct"
   ]
  },
  {
   "cell_type": "code",
   "execution_count": 4,
   "id": "ba087e40",
   "metadata": {},
   "outputs": [
    {
     "name": "stdout",
     "output_type": "stream",
     "text": [
      "c :  0 0 0 1 0 0 0 1 0 0 0\n",
      "b :  0 1 1 0 1 0 1 0 1 1 0\n",
      "a :  1 0 0 0 0 1 0 0 0 0 1\n"
     ]
    }
   ],
   "source": [
    "##\n",
    "column = list('abbcbabcbba')\n",
    "dct = {}\n",
    "for key in set(column):\n",
    "    dct[key] = [1 if char == key else 0 for char in column]\n",
    "for key, val in dct.items():\n",
    "    print(key, ': ', *val)"
   ]
  },
  {
   "cell_type": "code",
   "execution_count": 9,
   "id": "4913c671",
   "metadata": {},
   "outputs": [],
   "source": [
    "def new_columns_tests():\n",
    "    def compare_dicts(d_calc, d_real):\n",
    "        if len(d_calc) != len(d_real):\n",
    "            raise RuntimeError(\n",
    "                f'Число ключей в словарях различается: должно быть {len(d_real)}, а получилось {len(d_calc)}.')\n",
    "            \n",
    "        for key, value in d_calc.items():\n",
    "            if d_real[key] != value:\n",
    "                raise RuntimeError(f'Значение для ключа {key} получилось неправильное: должно быть {d_real[key]}, а получилось {value}.')\n",
    "                \n",
    "    example_1_column = pd.Series(['a', 'aa', 'aaa', 'aa'])\n",
    "    example_1_res = {\n",
    "        'a': [1, 0, 0, 0],\n",
    "        'aa': [0, 1, 0, 1],\n",
    "        'aaa': [0, 0, 1, 0]\n",
    "    }\n",
    "    \n",
    "    compare_dicts(new_columns_solution(example_1_column), example_1_res)\n",
    "    \n",
    "    example_2_column = pd.Series(['улица', 'помещение', 'помещение', 'улица', 'улица'])\n",
    "    example_2_res = {\n",
    "        'улица': [1, 0, 0, 1, 1],\n",
    "        'помещение': [0, 1, 1, 0, 0]\n",
    "    }\n",
    "    \n",
    "    compare_dicts(new_columns_solution(example_2_column), example_2_res)\n",
    "    \n",
    "    example_3_column = pd.Series(['--', '++', '--', '^^', '~~', '--', '^^'])\n",
    "    example_3_res = {\n",
    "        '--': [1, 0, 1, 0, 0, 1, 0],\n",
    "        '++': [0, 1, 0, 0, 0, 0, 0],\n",
    "        '^^': [0, 0, 0, 1, 0, 0, 1],\n",
    "        '~~': [0, 0, 0, 0, 1, 0, 0],\n",
    "    }\n",
    "    \n",
    "    compare_dicts(new_columns_solution(example_3_column), example_3_res)\n",
    "    \n",
    "    \n",
    "    print('Все тесты прошли успешно!')"
   ]
  },
  {
   "cell_type": "code",
   "execution_count": 10,
   "id": "340783a6",
   "metadata": {
    "scrolled": true
   },
   "outputs": [
    {
     "name": "stdout",
     "output_type": "stream",
     "text": [
      "Все тесты прошли успешно!\n"
     ]
    }
   ],
   "source": [
    "new_columns_tests()"
   ]
  },
  {
   "cell_type": "code",
   "execution_count": null,
   "id": "34fce45a",
   "metadata": {},
   "outputs": [],
   "source": []
  },
  {
   "cell_type": "code",
   "execution_count": 29,
   "id": "0a47831b",
   "metadata": {},
   "outputs": [],
   "source": [
    "def categorical_to_binary_solution(data, columns):\n",
    "    \"\"\"\n",
    "    Принимает на вход таблицу и производит кодирование представленных\n",
    "    в ней категориальных факторов. Каждый фактор представляется в виде\n",
    "    набора бинарных факторов, соответствующих отдельным категориям исходного фактора.\n",
    "    \n",
    "    Аргументы:\n",
    "        data: Таблица, категориальные факторы которой необходимо закодировать.\n",
    "        columns: Список колонок, в которых представлены факторы, которые необходимо закодировать.\n",
    "        \n",
    "    Возвращаемое значение:\n",
    "        Исходная таблица, в которой для каждого из указанных категориальных факторов\n",
    "        добавлено несколько бинарных факторов — по одному на каждую категорию.\n",
    "        \n",
    "        Для какого-то объекта бинарный фактор принимает значение 1 в том случае,\n",
    "        если исходный фактор для данного объекта принимал значение соответствующей категории.\n",
    "        В противном случае значение бинарного фактора равно 0.\n",
    "    \"\"\"\n",
    "    \n",
    "    for col in columns:\n",
    "        if data[col].dtype == object:\n",
    "            data = pd.concat((data, pd.DataFrame(new_columns_solution(data[col].to_list()))), axis=1)\n",
    "    \n",
    "    return data"
   ]
  },
  {
   "cell_type": "code",
   "execution_count": null,
   "id": "2ce8203a",
   "metadata": {},
   "outputs": [],
   "source": []
  },
  {
   "cell_type": "code",
   "execution_count": 25,
   "id": "09ad2e79",
   "metadata": {},
   "outputs": [
    {
     "data": {
      "text/html": [
       "<div>\n",
       "<style scoped>\n",
       "    .dataframe tbody tr th:only-of-type {\n",
       "        vertical-align: middle;\n",
       "    }\n",
       "\n",
       "    .dataframe tbody tr th {\n",
       "        vertical-align: top;\n",
       "    }\n",
       "\n",
       "    .dataframe thead th {\n",
       "        text-align: right;\n",
       "    }\n",
       "</style>\n",
       "<table border=\"1\" class=\"dataframe\">\n",
       "  <thead>\n",
       "    <tr style=\"text-align: right;\">\n",
       "      <th></th>\n",
       "      <th>номер наблюдения</th>\n",
       "      <th>время суток</th>\n",
       "      <th>погода</th>\n",
       "    </tr>\n",
       "  </thead>\n",
       "  <tbody>\n",
       "    <tr>\n",
       "      <th>0</th>\n",
       "      <td>1</td>\n",
       "      <td>день</td>\n",
       "      <td>дождь</td>\n",
       "    </tr>\n",
       "    <tr>\n",
       "      <th>1</th>\n",
       "      <td>2</td>\n",
       "      <td>ночь</td>\n",
       "      <td>снег</td>\n",
       "    </tr>\n",
       "    <tr>\n",
       "      <th>2</th>\n",
       "      <td>3</td>\n",
       "      <td>день</td>\n",
       "      <td>солнце</td>\n",
       "    </tr>\n",
       "    <tr>\n",
       "      <th>3</th>\n",
       "      <td>4</td>\n",
       "      <td>день</td>\n",
       "      <td>солнце</td>\n",
       "    </tr>\n",
       "    <tr>\n",
       "      <th>4</th>\n",
       "      <td>5</td>\n",
       "      <td>сумерки</td>\n",
       "      <td>дождь</td>\n",
       "    </tr>\n",
       "  </tbody>\n",
       "</table>\n",
       "</div>"
      ],
      "text/plain": [
       "   номер наблюдения время суток  погода\n",
       "0                 1        день   дождь\n",
       "1                 2        ночь    снег\n",
       "2                 3        день  солнце\n",
       "3                 4        день  солнце\n",
       "4                 5     сумерки   дождь"
      ]
     },
     "execution_count": 25,
     "metadata": {},
     "output_type": "execute_result"
    }
   ],
   "source": [
    "##\n",
    "data = [\n",
    "        [1, 'день', 'дождь'],\n",
    "        [2, 'ночь', 'снег'],\n",
    "        [3, 'день', 'солнце'],\n",
    "        [4, 'день', 'солнце'],\n",
    "        [5, 'сумерки', 'дождь'],\n",
    "]\n",
    "\n",
    "columns = ['номер наблюдения', 'время суток', 'погода']\n",
    "\n",
    "data = pd.DataFrame(data, columns=columns)\n",
    "data"
   ]
  },
  {
   "cell_type": "code",
   "execution_count": 26,
   "id": "e30cc7a7",
   "metadata": {},
   "outputs": [
    {
     "name": "stdout",
     "output_type": "stream",
     "text": [
      "['день', 'ночь', 'день', 'день', 'сумерки']\n",
      "['дождь', 'снег', 'солнце', 'солнце', 'дождь']\n"
     ]
    },
    {
     "data": {
      "text/html": [
       "<div>\n",
       "<style scoped>\n",
       "    .dataframe tbody tr th:only-of-type {\n",
       "        vertical-align: middle;\n",
       "    }\n",
       "\n",
       "    .dataframe tbody tr th {\n",
       "        vertical-align: top;\n",
       "    }\n",
       "\n",
       "    .dataframe thead th {\n",
       "        text-align: right;\n",
       "    }\n",
       "</style>\n",
       "<table border=\"1\" class=\"dataframe\">\n",
       "  <thead>\n",
       "    <tr style=\"text-align: right;\">\n",
       "      <th></th>\n",
       "      <th>номер наблюдения</th>\n",
       "      <th>время суток</th>\n",
       "      <th>погода</th>\n",
       "      <th>ночь</th>\n",
       "      <th>день</th>\n",
       "      <th>сумерки</th>\n",
       "      <th>дождь</th>\n",
       "      <th>снег</th>\n",
       "      <th>солнце</th>\n",
       "    </tr>\n",
       "  </thead>\n",
       "  <tbody>\n",
       "    <tr>\n",
       "      <th>0</th>\n",
       "      <td>1</td>\n",
       "      <td>день</td>\n",
       "      <td>дождь</td>\n",
       "      <td>0</td>\n",
       "      <td>1</td>\n",
       "      <td>0</td>\n",
       "      <td>1</td>\n",
       "      <td>0</td>\n",
       "      <td>0</td>\n",
       "    </tr>\n",
       "    <tr>\n",
       "      <th>1</th>\n",
       "      <td>2</td>\n",
       "      <td>ночь</td>\n",
       "      <td>снег</td>\n",
       "      <td>1</td>\n",
       "      <td>0</td>\n",
       "      <td>0</td>\n",
       "      <td>0</td>\n",
       "      <td>1</td>\n",
       "      <td>0</td>\n",
       "    </tr>\n",
       "    <tr>\n",
       "      <th>2</th>\n",
       "      <td>3</td>\n",
       "      <td>день</td>\n",
       "      <td>солнце</td>\n",
       "      <td>0</td>\n",
       "      <td>1</td>\n",
       "      <td>0</td>\n",
       "      <td>0</td>\n",
       "      <td>0</td>\n",
       "      <td>1</td>\n",
       "    </tr>\n",
       "    <tr>\n",
       "      <th>3</th>\n",
       "      <td>4</td>\n",
       "      <td>день</td>\n",
       "      <td>солнце</td>\n",
       "      <td>0</td>\n",
       "      <td>1</td>\n",
       "      <td>0</td>\n",
       "      <td>0</td>\n",
       "      <td>0</td>\n",
       "      <td>1</td>\n",
       "    </tr>\n",
       "    <tr>\n",
       "      <th>4</th>\n",
       "      <td>5</td>\n",
       "      <td>сумерки</td>\n",
       "      <td>дождь</td>\n",
       "      <td>0</td>\n",
       "      <td>0</td>\n",
       "      <td>1</td>\n",
       "      <td>1</td>\n",
       "      <td>0</td>\n",
       "      <td>0</td>\n",
       "    </tr>\n",
       "  </tbody>\n",
       "</table>\n",
       "</div>"
      ],
      "text/plain": [
       "   номер наблюдения время суток  погода  ночь  день  сумерки  дождь  снег  \\\n",
       "0                 1        день   дождь     0     1        0      1     0   \n",
       "1                 2        ночь    снег     1     0        0      0     1   \n",
       "2                 3        день  солнце     0     1        0      0     0   \n",
       "3                 4        день  солнце     0     1        0      0     0   \n",
       "4                 5     сумерки   дождь     0     0        1      1     0   \n",
       "\n",
       "   солнце  \n",
       "0       0  \n",
       "1       0  \n",
       "2       1  \n",
       "3       1  \n",
       "4       0  "
      ]
     },
     "execution_count": 26,
     "metadata": {},
     "output_type": "execute_result"
    }
   ],
   "source": [
    "for col in columns:\n",
    "    if data[col].dtype == object:\n",
    "        print(data[col].to_list())\n",
    "        data = pd.concat((data, pd.DataFrame(new_columns_solution(data[col].to_list()))), axis=1)\n",
    "#         data.drop(col, axis=1, inplace=True)\n",
    "data"
   ]
  },
  {
   "cell_type": "code",
   "execution_count": null,
   "id": "1113032a",
   "metadata": {},
   "outputs": [],
   "source": []
  },
  {
   "cell_type": "code",
   "execution_count": null,
   "id": "0b9d8f72",
   "metadata": {},
   "outputs": [],
   "source": [
    "##  pd.get_dummies(data, prefix='', prefix_sep='') запрещено использовать!"
   ]
  },
  {
   "cell_type": "code",
   "execution_count": 94,
   "id": "2da494af",
   "metadata": {},
   "outputs": [],
   "source": []
  },
  {
   "cell_type": "code",
   "execution_count": 30,
   "id": "8ec06eee",
   "metadata": {},
   "outputs": [],
   "source": [
    "def categorical_to_binary_tests():\n",
    "    def compare_tables(table_calc, table_real, factors):\n",
    "        for factor in factors:\n",
    "            vals = list(table_real[factor].unique())\n",
    "            \n",
    "            for val in vals:\n",
    "                assert list(table_calc[val]) == list(table_real[val])\n",
    "                \n",
    "    example_1_columns = ['A', 'B']\n",
    "    example_1_data = [\n",
    "        ['a', 3],\n",
    "        ['aa', 5],\n",
    "        ['aaa', 8],\n",
    "        ['aa', 13]\n",
    "    ]\n",
    "    example_1_table = pd.DataFrame(columns=example_1_columns, data=example_1_data)\n",
    "    example_1_factors = ['A']\n",
    "    \n",
    "    example_1_res_columns = ['A', 'B', 'a', 'aa', 'aaa']\n",
    "    example_1_res_data = [\n",
    "        ['a', 3, 1, 0, 0],\n",
    "        ['aa', 5, 0, 1, 0],\n",
    "        ['aaa', 8, 0, 0, 1],\n",
    "        ['aa', 13, 0, 1, 0]\n",
    "    ]\n",
    "    example_1_res_table = pd.DataFrame(columns=example_1_res_columns, data=example_1_res_data)\n",
    "    \n",
    "    compare_tables(categorical_to_binary_solution(example_1_table, example_1_factors),\n",
    "                   example_1_res_table,\n",
    "                   example_1_factors)\n",
    "    \n",
    "    example_2_columns = ['номер наблюдения', 'время суток', 'погода']\n",
    "    example_2_data = [\n",
    "        [1, 'день', 'дождь'],\n",
    "        [2, 'ночь', 'снег'],\n",
    "        [3, 'день', 'солнце'],\n",
    "        [4, 'день', 'солнце'],\n",
    "        [5, 'сумерки', 'дождь'],\n",
    "    ]\n",
    "    example_2_table = pd.DataFrame(columns=example_2_columns, data=example_2_data)\n",
    "    example_2_factors = ['время суток', 'погода']\n",
    "    \n",
    "    example_2_res_columns = ['номер наблюдения', 'время суток', 'погода', \n",
    "                             'день', 'ночь', 'сумерки', \n",
    "                             'солнце', 'дождь', 'снег']\n",
    "    example_2_res_data = [\n",
    "        [1, 'день', 'дождь', 1, 0, 0, 0, 1, 0],\n",
    "        [2, 'ночь', 'снег', 0, 1, 0, 0, 0, 1],\n",
    "        [3, 'день', 'солнце', 1, 0, 0, 1, 0, 0],\n",
    "        [4, 'день', 'солнце', 1, 0, 0, 1, 0, 0],\n",
    "        [5, 'сумерки', 'дождь', 0, 0, 1, 0, 1, 0],\n",
    "    ]\n",
    "    example_2_res_table = pd.DataFrame(columns=example_2_res_columns, data=example_2_res_data)\n",
    "    \n",
    "    compare_tables(categorical_to_binary_solution(example_2_table, example_2_factors),\n",
    "                   example_2_res_table,\n",
    "                   example_2_factors)\n",
    "    \n",
    "    print('Все тесты прошли успешно!')"
   ]
  },
  {
   "cell_type": "code",
   "execution_count": 31,
   "id": "88a9c48f",
   "metadata": {},
   "outputs": [
    {
     "name": "stdout",
     "output_type": "stream",
     "text": [
      "Все тесты прошли успешно!\n"
     ]
    }
   ],
   "source": [
    "categorical_to_binary_tests()"
   ]
  },
  {
   "cell_type": "markdown",
   "id": "a541ae7f",
   "metadata": {},
   "source": [
    "## Целевое кодирование"
   ]
  },
  {
   "cell_type": "code",
   "execution_count": 5,
   "id": "fbe0b5d0",
   "metadata": {},
   "outputs": [],
   "source": [
    "def round_to_2(x):\n",
    "    \"\"\"\n",
    "    Принимает число и возвращает результат его округления\n",
    "    до 2 знаков после запятой.\n",
    "    \n",
    "    Аргументы:\n",
    "        x: Число.\n",
    "        \n",
    "    Возвращаемое значение:\n",
    "        Результат округления числа до 2 знаков после запятой.\n",
    "    \"\"\"\n",
    "    \n",
    "    return round(x, 2)"
   ]
  },
  {
   "cell_type": "code",
   "execution_count": null,
   "id": "45a8bff7",
   "metadata": {},
   "outputs": [],
   "source": [
    "def target_coding_solution(data, factor_column, target_column):\n",
    "    \"\"\"\n",
    "    Принимает таблицу и производит в ней целевое кодирование заданного фактора.\n",
    "    \n",
    "    Аргументы:\n",
    "        data: Исходная таблица.\n",
    "        factor_column: Название категориального фактора исходной таблицы, который нужно закодировать.\n",
    "        target_column: Название колонки, в которой содержится предсказываемое по данным значение.\n",
    "        \n",
    "    Возвращаемое значение:\n",
    "        Функция ничего не возвращает. Однако в результате её запуска в исходной таблице должна появиться\n",
    "        новая колонка с названием \"encoded\", в которой представлен результат кодирования\n",
    "        фактора \"factor_column\".\n",
    "    \"\"\"\n",
    "    \n",
    "    pass"
   ]
  },
  {
   "cell_type": "code",
   "execution_count": null,
   "id": "e09f36f3",
   "metadata": {},
   "outputs": [],
   "source": [
    "def target_coding_tests():\n",
    "    def compare_tables(table_calc, table_real):\n",
    "        for factor in factors:\n",
    "            vals = list(table_real[factor].unique())\n",
    "            \n",
    "            for val in vals:\n",
    "                assert list(table_calc['encoded']) == list(table_real[val])\n",
    "                \n",
    "    example_1_columns = ['Фактор 1', 'Фактор 2', 'Предсказание']\n",
    "    example_1_data = [\n",
    "        ['a', 'значение 1', 1],\n",
    "        ['a', 'значение 2', 3],\n",
    "        ['aa', 'значение 3', 3]\n",
    "    ]\n",
    "    example_1_table = pd.DataFrame(columns=example_1_columns, data=example_1_data)\n",
    "    example_1_factor = 'Фактор 1'\n",
    "    example_1_target_factor = 'Предсказание'\n",
    "    \n",
    "    target_coding_solution(example_1_table, example_1_factor, example_1_target_factor)\n",
    "    \n",
    "    example_1_res = [2.0, 2.0, 3.0]\n",
    "    \n",
    "    assert list(example_1_table['encoded']) == example_1_res\n",
    "    \n",
    "    example_2_columns = ['A', 'B', 'C', 'D', 'E']\n",
    "    example_2_data = [\n",
    "        ['a', 'bb', 'ccc', 'dd', 1],\n",
    "        ['aa', 'b', 'ccc', 'ddd', 7],\n",
    "        ['a', 'bb', 'ccc', 'dd', 6],\n",
    "        ['aa', 'b', 'ccc', 'd', 5],\n",
    "        ['a', 'bb', 'ccc', 'd', 1]\n",
    "    ]\n",
    "    example_2_table = pd.DataFrame(columns=example_2_columns, data=example_2_data)\n",
    "    example_2_factor = 'D'\n",
    "    example_2_target_factor = 'E'\n",
    "    \n",
    "    target_coding_solution(example_2_table, example_2_factor, example_2_target_factor)\n",
    "    \n",
    "    example_2_res = [3.5, 7.0, 3.5, 3.0, 3.0]\n",
    "    \n",
    "    assert list(example_2_table['encoded']) == example_2_res\n",
    "    \n",
    "    print('Все тесты прошли успешно!')"
   ]
  },
  {
   "cell_type": "code",
   "execution_count": null,
   "id": "2e5ba8f1",
   "metadata": {},
   "outputs": [],
   "source": [
    "target_coding_tests()"
   ]
  },
  {
   "cell_type": "markdown",
   "id": "e716341a",
   "metadata": {},
   "source": [
    "## Стандартизация факторов"
   ]
  },
  {
   "cell_type": "code",
   "execution_count": null,
   "id": "81804cf0",
   "metadata": {},
   "outputs": [],
   "source": [
    "def standard_deviation_solution(column):\n",
    "    \"\"\"\n",
    "    Вычисляет разброс значений в колонке.\n",
    "    \n",
    "    Аргументы:\n",
    "        column: Колонка с численными значениями.\n",
    "        \n",
    "    Возвращаемое значение:\n",
    "        Величина разброса значений в колонке, округлённая до 2 знаков после запятой.\n",
    "    \"\"\"\n",
    "    \n",
    "    pass"
   ]
  },
  {
   "cell_type": "code",
   "execution_count": null,
   "id": "fe144f6d",
   "metadata": {},
   "outputs": [],
   "source": [
    "def standard_deviation_tests():\n",
    "    example_1_column = pd.Series([1, 2, 1, 3, 4, 5])\n",
    "    example_1_res = 1.49\n",
    "    \n",
    "    assert standard_deviation_solution(example_1_column) == example_1_res\n",
    "    \n",
    "    example_2_column = pd.Series([5, 5, 5, 5, 5])\n",
    "    example_2_res = 0\n",
    "    \n",
    "    assert standard_deviation_solution(example_2_column) == example_2_res\n",
    "    \n",
    "    print('Все тесты прошли успешно!')"
   ]
  },
  {
   "cell_type": "code",
   "execution_count": null,
   "id": "4fa3441e",
   "metadata": {},
   "outputs": [],
   "source": [
    "standard_deviation_tests()"
   ]
  },
  {
   "cell_type": "code",
   "execution_count": null,
   "id": "6e580b5d",
   "metadata": {},
   "outputs": [],
   "source": [
    "def standartize_column_solution(column):\n",
    "    \"\"\"\n",
    "    Производит стандартизацию значений в колонке.\n",
    "    \n",
    "    Аргументы:\n",
    "        column: Колонка с численными значениями.\n",
    "        \n",
    "    Возвращаемое значение:\n",
    "        Возвращает колонку со стандартизированными значениями.\n",
    "        То есть из каждого из исходных значений вычтено среднее, после чего разница разделена на значение разброса.\n",
    "        \n",
    "        Каждое значение в итоговой колонке должно быть округлено до 2 знаков после запятой.\n",
    "    \"\"\"\n",
    "    \n",
    "    pass"
   ]
  },
  {
   "cell_type": "code",
   "execution_count": null,
   "id": "5f7f4091",
   "metadata": {},
   "outputs": [],
   "source": [
    "def standartize_column_tests():\n",
    "    example_1_column = pd.Series([1, 2, 1, 3, 4, 5])\n",
    "    example_1_res = [-1.12, -0.45, -1.12, 0.22, 0.89, 1.57]\n",
    "    \n",
    "    assert list(standartize_column_solution(example_1_column)) == example_1_res\n",
    "    \n",
    "    example_2_column = pd.Series([5, 5, 5, 5, 5])\n",
    "    example_2_res = [0, 0, 0, 0, 0]\n",
    "    \n",
    "    assert list(standartize_column_solution(example_2_column)) == example_2_res\n",
    "    \n",
    "    print('Все тесты прошли успешно!')"
   ]
  },
  {
   "cell_type": "code",
   "execution_count": null,
   "id": "8c98e2e5",
   "metadata": {},
   "outputs": [],
   "source": [
    "standartize_column_tests()"
   ]
  },
  {
   "cell_type": "markdown",
   "id": "efaa98a0",
   "metadata": {},
   "source": [
    "## Корреляция"
   ]
  },
  {
   "cell_type": "code",
   "execution_count": null,
   "id": "09529762",
   "metadata": {},
   "outputs": [],
   "source": [
    "def correlation_solution(column_x, column_y):\n",
    "    \"\"\"\n",
    "    Вычисляет корреляцию значений двух колонок.\n",
    "    \n",
    "    Аргументы:\n",
    "        column_x: Первая колонка с численными значениями.\n",
    "        column_y: Вторая колонка с численными значениями.\n",
    "        \n",
    "    Возвращаемое значение:\n",
    "        Возвращает корреляцию значений двух колонок, округлённую до 2 знаков после запятой.\n",
    "    \"\"\"\n",
    "    \n",
    "    pass"
   ]
  },
  {
   "cell_type": "code",
   "execution_count": null,
   "id": "8c013bed",
   "metadata": {},
   "outputs": [],
   "source": [
    "def correlation_tests():\n",
    "    example_1_column_x = pd.Series([1, 2, 1, 3, 4, 5])\n",
    "    example_1_column_y = pd.Series([0, 5, 3, 8, 9, 1])\n",
    "    example_1_res = 0.29\n",
    "    \n",
    "    assert correlation_solution(example_1_column_x, example_1_column_y) == example_1_res\n",
    "    \n",
    "    example_2_column_x = pd.Series([1, 2, 1, 3, 4, 5])\n",
    "    example_2_column_y = pd.Series([1, 2, 1, 3, 4, 5])\n",
    "    example_2_res = 1.0\n",
    "    \n",
    "    assert correlation_solution(example_2_column_x, example_2_column_y) == example_2_res\n",
    "    \n",
    "    print('Все тесты прошли успешно!')"
   ]
  },
  {
   "cell_type": "code",
   "execution_count": null,
   "id": "7e1f8025",
   "metadata": {},
   "outputs": [],
   "source": [
    "correlation_tests()"
   ]
  },
  {
   "cell_type": "code",
   "execution_count": null,
   "id": "b3643af6",
   "metadata": {},
   "outputs": [],
   "source": [
    "def correlation_table_solution(table):\n",
    "    \"\"\"\n",
    "    Принимает на вход таблицу с данными, а возвращает таблицу со значениями\n",
    "    корреляции колонок исходной таблицы друг с другом.\n",
    "    \n",
    "    Аргументы:\n",
    "        table: Таблица с численными значениями в формате pandas.\n",
    "        \n",
    "    Возвращаемое значение:\n",
    "        Возвращает таблицу корреляции между колонками исходной таблицы в формате списка списков.\n",
    "        В ячейке таблицы с координатами ij (где i — индекс строки, а j — индекс колонки)\n",
    "        должна быть записана корреляция значений i-ой колонки исходной таблицы с j-ой колонкой\n",
    "        исходной таблицы. Значение корреляции должно быть округлено до 2 знаков после запятой.\n",
    "    \"\"\"\n",
    "    \n",
    "    pass"
   ]
  },
  {
   "cell_type": "code",
   "execution_count": null,
   "id": "856bd1c7",
   "metadata": {},
   "outputs": [],
   "source": [
    "def correlation_table_tests():\n",
    "    example_1_table = [[1,-1],\n",
    "                       [2,7],\n",
    "                       [3,9],\n",
    "                       [4,5]]\n",
    "    example_1_df = pd.DataFrame(data=example_1_table, columns=['A', 'B'])\n",
    "    example_1_res = [[1.0, 0.6],\n",
    "                     [0.6, 1.0]]\n",
    "    \n",
    "    assert correlation_table_solution(example_1_df) == example_1_res\n",
    "    \n",
    "    example_2_table = [[17,81,19],\n",
    "                       [21,23,94],\n",
    "                       [55,71,83],\n",
    "                       [53,82,64],\n",
    "                       [25,62,72]]\n",
    "    example_2_df = pd.DataFrame(data=example_2_table, columns=['D', 'E', 'Q'])\n",
    "    example_2_res = [[1.0, 0.42, 0.33],\n",
    "                     [0.42, 1.0, -0.67],\n",
    "                     [0.33, -0.67, 1.0]]\n",
    "    \n",
    "    assert correlation_table_solution(example_2_df) == example_2_res\n",
    "    \n",
    "    print('Все тесты прошли успешно!')"
   ]
  },
  {
   "cell_type": "code",
   "execution_count": null,
   "id": "1a1bed2e",
   "metadata": {},
   "outputs": [],
   "source": [
    "correlation_table_tests()"
   ]
  }
 ],
 "metadata": {
  "kernelspec": {
   "display_name": "Python 3",
   "language": "python",
   "name": "python3"
  },
  "language_info": {
   "codemirror_mode": {
    "name": "ipython",
    "version": 3
   },
   "file_extension": ".py",
   "mimetype": "text/x-python",
   "name": "python",
   "nbconvert_exporter": "python",
   "pygments_lexer": "ipython3",
   "version": "3.8.8"
  }
 },
 "nbformat": 4,
 "nbformat_minor": 5
}
